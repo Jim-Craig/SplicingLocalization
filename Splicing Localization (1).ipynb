{
 "cells": [
  {
   "cell_type": "code",
   "execution_count": 1,
   "metadata": {},
   "outputs": [
    {
     "name": "stderr",
     "output_type": "stream",
     "text": [
      "Using TensorFlow backend.\n"
     ]
    },
    {
     "name": "stdout",
     "output_type": "stream",
     "text": [
      "WARNING:tensorflow:From /home/ec2-user/anaconda3/envs/tensorflow_p36/cpu/lib/python3.6/site-packages/tensorflow_core/__init__.py:1473: The name tf.estimator.inputs is deprecated. Please use tf.compat.v1.estimator.inputs instead.\n",
      "\n"
     ]
    }
   ],
   "source": [
    "import keras\n",
    "from keras.models import *\n",
    "from keras.layers import *"
   ]
  },
  {
   "cell_type": "code",
   "execution_count": 2,
   "metadata": {},
   "outputs": [],
   "source": [
    "import numpy as np\n",
    "import pandas as pd"
   ]
  },
  {
   "cell_type": "code",
   "execution_count": 3,
   "metadata": {},
   "outputs": [],
   "source": [
    "%matplotlib inline\n",
    "import keras \n",
    "import numpy as np \n",
    "from keras.applications.vgg16 import VGG16\n",
    "from keras.preprocessing.image import load_img\n",
    "from keras.callbacks import ModelCheckpoint\n",
    "import matplotlib.pyplot as plt\n",
    "import itertools\n",
    "from keras.models import Sequential\n",
    "from keras.optimizers import Adam\n",
    "from keras.preprocessing.image import ImageDataGenerator\n",
    "import tensorflow as tf\n",
    "from keras.layers import Dense, Flatten, Dropout\n",
    "from tensorflow.python.client import device_lib\n",
    "# keras library import  for Saving and loading model and weights\n",
    "from keras.models import model_from_json\n",
    "from keras.models import load_model\n",
    "from sklearn.metrics import confusion_matrix\n",
    "from keras.models import Model\n",
    "from keras.models import Sequential,Model\n",
    "from keras.layers import Convolution2D, ZeroPadding2D, MaxPooling2D, Conv2DTranspose, Cropping2D\n",
    "from keras.layers import Input, Add, Dropout, Permute, add\n",
    "import tensorflow as tf"
   ]
  },
  {
   "cell_type": "code",
   "execution_count": 4,
   "metadata": {},
   "outputs": [],
   "source": [
    "# def model():\n",
    "#     model = tf.keras.applications.VGG16(include_top=False, weights='imagenet', input_shape=(224, 224, 3))\n",
    "#     x = tf.keras.layers.Conv2D(1024, (7,7),padding = \"SAME\", activation = \"relu\", name = \"fc5\")(model.layers[-1].output)\n",
    "#     x = tf.keras.layers.Conv2D(1024, (7,7),padding = \"SAME\", activation = \"relu\", name = \"fc6\")(x)\n",
    "#     x = tf.keras.layers.Conv2D(3, (1, 1),padding = \"SAME\", activation = \"relu\", name = \"score_fr\")(x)\n",
    "#     x = tf.keras.layers.Conv2DTranspose(3,kernel_size=(4,4),strides = (2,2),padding = \"valid\",activation=None,name = \"score2\")(x)\n",
    "#     x = tf.keras.layers.Cropping2D(cropping=((0,2),(0,2)))(x)\n",
    "#     model1 = tf.keras.Model(inputs =model.input, outputs =[x])\n",
    "#     return model1"
   ]
  },
  {
   "cell_type": "code",
   "execution_count": 5,
   "metadata": {},
   "outputs": [],
   "source": [
    "# def final(model1):\n",
    "#     skip_conv1 = tf.keras.layers.Conv2D(3, (1,1), padding=\"SAME\", activation=None, name=\"score_pool4\")      \n",
    "#     summed=tf.keras.layers.Add()([skip_conv1(model1.layers[14].output),model1.layers[-1].output])\n",
    "#     x = tf.keras.layers.Conv2DTranspose(3,kernel_size=(4,4),strides = (2,2),padding = \"valid\",activation=None,name = \"score4\")(summed)\n",
    "#     x = tf.keras.layers.Cropping2D(cropping=((0,2),(0,2)))(x)\n",
    "#     skip_con2 = tf.keras.layers.Conv2D(3,kernel_size=(1,1),padding = \"same\",activation=None, name = \"score_pool3\")\n",
    "#     Summed = tf.keras.layers.Add()([skip_con2(model1.layers[10].output),x])\n",
    "#     Up = tf.keras.layers.Conv2DTranspose(3,kernel_size=(16,16),strides = (8,8),padding = \"valid\",activation = None,name = \"upsample\")(Summed)\n",
    "#     final = tf.keras.layers.Cropping2D(cropping = ((0,8),(0,8)))(Up)\n",
    "#     final_model = tf.keras.Model(model1.input, final)\n",
    "#     return final_model"
   ]
  },
  {
   "cell_type": "code",
   "execution_count": 6,
   "metadata": {},
   "outputs": [],
   "source": [
    "# model1 = model()"
   ]
  },
  {
   "cell_type": "code",
   "execution_count": 7,
   "metadata": {},
   "outputs": [],
   "source": [
    "# final_model =final(model1)"
   ]
  },
  {
   "cell_type": "code",
   "execution_count": 8,
   "metadata": {},
   "outputs": [],
   "source": [
    "# final_model.summary()"
   ]
  },
  {
   "cell_type": "code",
   "execution_count": 9,
   "metadata": {},
   "outputs": [],
   "source": [
    "import os"
   ]
  },
  {
   "cell_type": "code",
   "execution_count": 10,
   "metadata": {},
   "outputs": [],
   "source": [
    "original = os.listdir(\"final/train/img/\")\n",
    "mask = os.listdir(\"final/label/img/\")"
   ]
  },
  {
   "cell_type": "code",
   "execution_count": 11,
   "metadata": {},
   "outputs": [],
   "source": [
    "mask.sort()\n",
    "original.sort()"
   ]
  },
  {
   "cell_type": "code",
   "execution_count": 12,
   "metadata": {},
   "outputs": [
    {
     "data": {
      "text/plain": [
       "'.ipynb_checkpoints'"
      ]
     },
     "execution_count": 12,
     "metadata": {},
     "output_type": "execute_result"
    }
   ],
   "source": [
    "original[0]"
   ]
  },
  {
   "cell_type": "code",
   "execution_count": 13,
   "metadata": {},
   "outputs": [],
   "source": [
    "import cv2\n",
    "import matplotlib.pyplot as plt"
   ]
  },
  {
   "cell_type": "code",
   "execution_count": 14,
   "metadata": {},
   "outputs": [
    {
     "data": {
      "text/plain": [
       "'canong3_canonxt_sub_02.jpg'"
      ]
     },
     "execution_count": 14,
     "metadata": {},
     "output_type": "execute_result"
    }
   ],
   "source": [
    "file = original[2]\n",
    "file"
   ]
  },
  {
   "cell_type": "code",
   "execution_count": 15,
   "metadata": {},
   "outputs": [],
   "source": [
    "mask = mask[1:]\n",
    "original = original[1:]"
   ]
  },
  {
   "cell_type": "code",
   "execution_count": 22,
   "metadata": {},
   "outputs": [],
   "source": [
    "y = np.zeros((len(mask), 224, 224, 3), dtype=np.float32)\n",
    "x = np.zeros((len(original), 224, 224, 3), dtype=np.float32)\n",
    "\n",
    "for file in original[1:]:\n",
    "    n = original.index(file)\n",
    "    path1 = os.path.join('final/train/img', file)\n",
    "    img = cv2.imread(path1, 1)\n",
    "    try:\n",
    "        img = cv2.resize(img, (224, 224))\n",
    "        x[n] = img/255\n",
    "        file2 = mask[n]\n",
    "        path2 = os.path.join('final/label/img', file2)\n",
    "        mask1 = np.array(cv2.imread(path2, 1))\n",
    "        mask1 = cv2.resize(mask1,(224,224))\n",
    "        y[n] = mask1/255\n",
    "    except Exception as  e:\n",
    "        print(e)\n",
    "        print(path1)"
   ]
  },
  {
   "cell_type": "code",
   "execution_count": 23,
   "metadata": {},
   "outputs": [
    {
     "name": "stdout",
     "output_type": "stream",
     "text": [
      "(180, 224, 224, 3)\n",
      "(180, 224, 224, 3)\n"
     ]
    }
   ],
   "source": [
    "print(x.shape)\n",
    "print(y.shape)"
   ]
  },
  {
   "cell_type": "code",
   "execution_count": 24,
   "metadata": {},
   "outputs": [],
   "source": [
    "from sklearn.model_selection import train_test_split\n",
    "X_train, X_valid, y_train, y_valid = train_test_split(x[1:100], y[1:100], test_size=0.15, random_state=2019)"
   ]
  },
  {
   "cell_type": "code",
   "execution_count": 25,
   "metadata": {},
   "outputs": [
    {
     "name": "stdout",
     "output_type": "stream",
     "text": [
      "(84, 224, 224, 3)\n",
      "(15, 224, 224, 3)\n",
      "(84, 224, 224, 3)\n",
      "(15, 224, 224, 3)\n"
     ]
    }
   ],
   "source": [
    "print(X_train.shape)\n",
    "print(X_valid.shape)\n",
    "print(y_train.shape)\n",
    "print(y_valid.shape)"
   ]
  },
  {
   "cell_type": "code",
   "execution_count": 26,
   "metadata": {},
   "outputs": [
    {
     "data": {
      "text/plain": [
       "1.0"
      ]
     },
     "execution_count": 26,
     "metadata": {},
     "output_type": "execute_result"
    }
   ],
   "source": [
    "X_train.max()"
   ]
  },
  {
   "cell_type": "code",
   "execution_count": 27,
   "metadata": {},
   "outputs": [],
   "source": [
    "def dice_coeff(y_true, y_pred):\n",
    "    numerator = 2*tf.reduce_sum(y_pred*y_true)\n",
    "    denominator = tf.reduce_sum(y_true+y_pred)\n",
    "    return numerator/(denominator+tf.keras.backend.epsilon())"
   ]
  },
  {
   "cell_type": "code",
   "execution_count": 28,
   "metadata": {},
   "outputs": [],
   "source": [
    "from keras.optimizers import Adam\n",
    "from tensorflow.keras.losses import binary_crossentropy\n",
    "def loss(y_true, y_pred):\n",
    "    return binary_crossentropy(y_true, y_pred) - tf.log(dice_coeff(y_true, y_pred) + tf.keras.backend.epsilon())"
   ]
  },
  {
   "cell_type": "code",
   "execution_count": 29,
   "metadata": {},
   "outputs": [],
   "source": [
    "# final_model.compile('Adam', loss=loss, metrics=[dice_coeff])"
   ]
  },
  {
   "cell_type": "code",
   "execution_count": 30,
   "metadata": {},
   "outputs": [],
   "source": [
    "# final_model.fit(x=X_train, y=y_train, batch_size=5, epochs=10, validation_data=(X_valid, y_valid),verbose = 2)"
   ]
  },
  {
   "cell_type": "code",
   "execution_count": 31,
   "metadata": {},
   "outputs": [
    {
     "name": "stdout",
     "output_type": "stream",
     "text": [
      "Collecting git+https:/github.com/qubvel/segmentation_models\n",
      "  Cloning https:///github.com/qubvel/segmentation_models to /tmp/pip-req-build-x_71pmfe\n",
      "Requirement already satisfied: keras_applications<=1.0.8,>=1.0.7 in /home/ec2-user/anaconda3/envs/tensorflow_p36/lib/python3.6/site-packages (from segmentation-models==1.0.1) (1.0.8)\n",
      "Collecting efficientnet==1.0.0\n",
      "  Downloading efficientnet-1.0.0-py3-none-any.whl (17 kB)\n",
      "Requirement already satisfied: keras_applications<=1.0.8,>=1.0.7 in /home/ec2-user/anaconda3/envs/tensorflow_p36/lib/python3.6/site-packages (from segmentation-models==1.0.1) (1.0.8)\n",
      "Requirement already satisfied: scikit-image in /home/ec2-user/anaconda3/envs/tensorflow_p36/lib/python3.6/site-packages (from efficientnet==1.0.0->segmentation-models==1.0.1) (0.16.2)\n",
      "Collecting image-classifiers==1.0.0\n",
      "  Downloading image_classifiers-1.0.0-py3-none-any.whl (19 kB)\n",
      "Requirement already satisfied: keras_applications<=1.0.8,>=1.0.7 in /home/ec2-user/anaconda3/envs/tensorflow_p36/lib/python3.6/site-packages (from segmentation-models==1.0.1) (1.0.8)\n",
      "Requirement already satisfied: numpy>=1.9.1 in /home/ec2-user/anaconda3/envs/tensorflow_p36/lib/python3.6/site-packages (from keras_applications<=1.0.8,>=1.0.7->segmentation-models==1.0.1) (1.19.4)\n",
      "Requirement already satisfied: h5py in /home/ec2-user/anaconda3/envs/tensorflow_p36/lib/python3.6/site-packages (from keras_applications<=1.0.8,>=1.0.7->segmentation-models==1.0.1) (2.10.0)\n",
      "Requirement already satisfied: six in /home/ec2-user/anaconda3/envs/tensorflow_p36/lib/python3.6/site-packages (from h5py->keras_applications<=1.0.8,>=1.0.7->segmentation-models==1.0.1) (1.15.0)\n",
      "Requirement already satisfied: numpy>=1.9.1 in /home/ec2-user/anaconda3/envs/tensorflow_p36/lib/python3.6/site-packages (from keras_applications<=1.0.8,>=1.0.7->segmentation-models==1.0.1) (1.19.4)\n",
      "Requirement already satisfied: matplotlib!=3.0.0,>=2.0.0 in /home/ec2-user/anaconda3/envs/tensorflow_p36/lib/python3.6/site-packages (from scikit-image->efficientnet==1.0.0->segmentation-models==1.0.1) (3.2.1)\n",
      "Requirement already satisfied: networkx>=2.0 in /home/ec2-user/anaconda3/envs/tensorflow_p36/lib/python3.6/site-packages (from scikit-image->efficientnet==1.0.0->segmentation-models==1.0.1) (2.4)\n",
      "Requirement already satisfied: PyWavelets>=0.4.0 in /home/ec2-user/anaconda3/envs/tensorflow_p36/lib/python3.6/site-packages (from scikit-image->efficientnet==1.0.0->segmentation-models==1.0.1) (1.1.1)\n",
      "Requirement already satisfied: pillow>=4.3.0 in /home/ec2-user/anaconda3/envs/tensorflow_p36/lib/python3.6/site-packages (from scikit-image->efficientnet==1.0.0->segmentation-models==1.0.1) (7.0.0)\n",
      "Requirement already satisfied: imageio>=2.3.0 in /home/ec2-user/anaconda3/envs/tensorflow_p36/lib/python3.6/site-packages (from scikit-image->efficientnet==1.0.0->segmentation-models==1.0.1) (2.6.1)\n",
      "Requirement already satisfied: scipy>=0.19.0 in /home/ec2-user/anaconda3/envs/tensorflow_p36/lib/python3.6/site-packages (from scikit-image->efficientnet==1.0.0->segmentation-models==1.0.1) (1.4.1)\n",
      "Requirement already satisfied: pillow>=4.3.0 in /home/ec2-user/anaconda3/envs/tensorflow_p36/lib/python3.6/site-packages (from scikit-image->efficientnet==1.0.0->segmentation-models==1.0.1) (7.0.0)\n",
      "Requirement already satisfied: numpy>=1.9.1 in /home/ec2-user/anaconda3/envs/tensorflow_p36/lib/python3.6/site-packages (from keras_applications<=1.0.8,>=1.0.7->segmentation-models==1.0.1) (1.19.4)\n",
      "Requirement already satisfied: python-dateutil>=2.1 in /home/ec2-user/anaconda3/envs/tensorflow_p36/lib/python3.6/site-packages (from matplotlib!=3.0.0,>=2.0.0->scikit-image->efficientnet==1.0.0->segmentation-models==1.0.1) (2.8.1)\n",
      "Requirement already satisfied: pyparsing!=2.0.4,!=2.1.2,!=2.1.6,>=2.0.1 in /home/ec2-user/anaconda3/envs/tensorflow_p36/lib/python3.6/site-packages (from matplotlib!=3.0.0,>=2.0.0->scikit-image->efficientnet==1.0.0->segmentation-models==1.0.1) (2.4.7)\n",
      "Requirement already satisfied: cycler>=0.10 in /home/ec2-user/anaconda3/envs/tensorflow_p36/lib/python3.6/site-packages (from matplotlib!=3.0.0,>=2.0.0->scikit-image->efficientnet==1.0.0->segmentation-models==1.0.1) (0.10.0)\n",
      "Requirement already satisfied: kiwisolver>=1.0.1 in /home/ec2-user/anaconda3/envs/tensorflow_p36/lib/python3.6/site-packages (from matplotlib!=3.0.0,>=2.0.0->scikit-image->efficientnet==1.0.0->segmentation-models==1.0.1) (1.1.0)\n",
      "Requirement already satisfied: numpy>=1.9.1 in /home/ec2-user/anaconda3/envs/tensorflow_p36/lib/python3.6/site-packages (from keras_applications<=1.0.8,>=1.0.7->segmentation-models==1.0.1) (1.19.4)\n",
      "Requirement already satisfied: six in /home/ec2-user/anaconda3/envs/tensorflow_p36/lib/python3.6/site-packages (from h5py->keras_applications<=1.0.8,>=1.0.7->segmentation-models==1.0.1) (1.15.0)\n",
      "Requirement already satisfied: setuptools in /home/ec2-user/anaconda3/envs/tensorflow_p36/lib/python3.6/site-packages (from kiwisolver>=1.0.1->matplotlib!=3.0.0,>=2.0.0->scikit-image->efficientnet==1.0.0->segmentation-models==1.0.1) (45.2.0.post20200210)\n",
      "Requirement already satisfied: decorator>=4.3.0 in /home/ec2-user/anaconda3/envs/tensorflow_p36/lib/python3.6/site-packages (from networkx>=2.0->scikit-image->efficientnet==1.0.0->segmentation-models==1.0.1) (4.4.1)\n",
      "Requirement already satisfied: six in /home/ec2-user/anaconda3/envs/tensorflow_p36/lib/python3.6/site-packages (from h5py->keras_applications<=1.0.8,>=1.0.7->segmentation-models==1.0.1) (1.15.0)\n",
      "Requirement already satisfied: numpy>=1.9.1 in /home/ec2-user/anaconda3/envs/tensorflow_p36/lib/python3.6/site-packages (from keras_applications<=1.0.8,>=1.0.7->segmentation-models==1.0.1) (1.19.4)\n",
      "Requirement already satisfied: numpy>=1.9.1 in /home/ec2-user/anaconda3/envs/tensorflow_p36/lib/python3.6/site-packages (from keras_applications<=1.0.8,>=1.0.7->segmentation-models==1.0.1) (1.19.4)\n",
      "Building wheels for collected packages: segmentation-models\n",
      "  Building wheel for segmentation-models (setup.py) ... \u001b[?25ldone\n",
      "\u001b[?25h  Created wheel for segmentation-models: filename=segmentation_models-1.0.1-py3-none-any.whl size=33794 sha256=b78c9bf206401cbb000cdcaeec4a4ac63b13fd2258d2551d9bd3485f7c20c37f\n",
      "  Stored in directory: /tmp/pip-ephem-wheel-cache-5_u7dz6p/wheels/0c/6e/ce/531a110b340b976440ab8d88c225ba2fdef043b8724973b97b\n",
      "Successfully built segmentation-models\n",
      "Installing collected packages: image-classifiers, efficientnet, segmentation-models\n",
      "Successfully installed efficientnet-1.0.0 image-classifiers-1.0.0 segmentation-models-1.0.1\n",
      "\u001b[33mWARNING: You are using pip version 20.3; however, version 20.3.3 is available.\n",
      "You should consider upgrading via the '/home/ec2-user/anaconda3/envs/tensorflow_p36/bin/python -m pip install --upgrade pip' command.\u001b[0m\n"
     ]
    }
   ],
   "source": [
    "!pip install git+https:///github.com/qubvel/segmentation_models"
   ]
  },
  {
   "cell_type": "code",
   "execution_count": 32,
   "metadata": {},
   "outputs": [
    {
     "name": "stdout",
     "output_type": "stream",
     "text": [
      "Segmentation Models: using `keras` framework.\n"
     ]
    }
   ],
   "source": [
    "from segmentation_models import Unet\n",
    "from segmentation_models.losses import bce_jaccard_loss\n",
    "from segmentation_models.metrics import iou_score, f1_score\n",
    "\n",
    "from keras.layers import Input, Conv2D\n",
    "from keras.models import Model"
   ]
  },
  {
   "cell_type": "code",
   "execution_count": 33,
   "metadata": {},
   "outputs": [],
   "source": [
    "from segmentation_models import get_preprocessing"
   ]
  },
  {
   "cell_type": "code",
   "execution_count": 34,
   "metadata": {},
   "outputs": [],
   "source": [
    "BACKBONE = 'resnet34'\n",
    "preprocess_input = get_preprocessing(BACKBONE)"
   ]
  },
  {
   "cell_type": "code",
   "execution_count": 35,
   "metadata": {},
   "outputs": [],
   "source": [
    "x_train = preprocess_input(X_train)\n",
    "x_val = preprocess_input(X_valid)\n"
   ]
  },
  {
   "cell_type": "code",
   "execution_count": 36,
   "metadata": {},
   "outputs": [
    {
     "data": {
      "text/plain": [
       "((84, 224, 224, 3), (15, 224, 224, 3))"
      ]
     },
     "execution_count": 36,
     "metadata": {},
     "output_type": "execute_result"
    }
   ],
   "source": [
    "x_train.shape, x_val.shape"
   ]
  },
  {
   "cell_type": "code",
   "execution_count": 37,
   "metadata": {},
   "outputs": [
    {
     "data": {
      "text/plain": [
       "3"
      ]
     },
     "execution_count": 37,
     "metadata": {},
     "output_type": "execute_result"
    }
   ],
   "source": [
    "N = X_train.shape[-1]\n",
    "N"
   ]
  },
  {
   "cell_type": "code",
   "execution_count": 38,
   "metadata": {},
   "outputs": [
    {
     "name": "stdout",
     "output_type": "stream",
     "text": [
      "WARNING:tensorflow:From /home/ec2-user/anaconda3/envs/tensorflow_p36/lib/python3.6/site-packages/keras/backend/tensorflow_backend.py:74: The name tf.get_default_graph is deprecated. Please use tf.compat.v1.get_default_graph instead.\n",
      "\n",
      "WARNING:tensorflow:From /home/ec2-user/anaconda3/envs/tensorflow_p36/lib/python3.6/site-packages/keras/backend/tensorflow_backend.py:517: The name tf.placeholder is deprecated. Please use tf.compat.v1.placeholder instead.\n",
      "\n",
      "WARNING:tensorflow:From /home/ec2-user/anaconda3/envs/tensorflow_p36/lib/python3.6/site-packages/keras/backend/tensorflow_backend.py:4138: The name tf.random_uniform is deprecated. Please use tf.random.uniform instead.\n",
      "\n",
      "WARNING:tensorflow:From /home/ec2-user/anaconda3/envs/tensorflow_p36/lib/python3.6/site-packages/keras/backend/tensorflow_backend.py:174: The name tf.get_default_session is deprecated. Please use tf.compat.v1.get_default_session instead.\n",
      "\n",
      "WARNING:tensorflow:From /home/ec2-user/anaconda3/envs/tensorflow_p36/lib/python3.6/site-packages/keras/backend/tensorflow_backend.py:184: The name tf.ConfigProto is deprecated. Please use tf.compat.v1.ConfigProto instead.\n",
      "\n",
      "WARNING:tensorflow:From /home/ec2-user/anaconda3/envs/tensorflow_p36/lib/python3.6/site-packages/keras/backend/tensorflow_backend.py:186: The name tf.Session is deprecated. Please use tf.compat.v1.Session instead.\n",
      "\n",
      "WARNING:tensorflow:From /home/ec2-user/anaconda3/envs/tensorflow_p36/lib/python3.6/site-packages/keras/backend/tensorflow_backend.py:190: The name tf.global_variables is deprecated. Please use tf.compat.v1.global_variables instead.\n",
      "\n",
      "WARNING:tensorflow:From /home/ec2-user/anaconda3/envs/tensorflow_p36/lib/python3.6/site-packages/keras/backend/tensorflow_backend.py:199: The name tf.is_variable_initialized is deprecated. Please use tf.compat.v1.is_variable_initialized instead.\n",
      "\n",
      "WARNING:tensorflow:From /home/ec2-user/anaconda3/envs/tensorflow_p36/lib/python3.6/site-packages/keras/backend/tensorflow_backend.py:206: The name tf.variables_initializer is deprecated. Please use tf.compat.v1.variables_initializer instead.\n",
      "\n",
      "WARNING:tensorflow:From /home/ec2-user/anaconda3/envs/tensorflow_p36/lib/python3.6/site-packages/keras/backend/tensorflow_backend.py:1834: The name tf.nn.fused_batch_norm is deprecated. Please use tf.compat.v1.nn.fused_batch_norm instead.\n",
      "\n",
      "WARNING:tensorflow:From /home/ec2-user/anaconda3/envs/tensorflow_p36/lib/python3.6/site-packages/keras/backend/tensorflow_backend.py:133: The name tf.placeholder_with_default is deprecated. Please use tf.compat.v1.placeholder_with_default instead.\n",
      "\n",
      "WARNING:tensorflow:From /home/ec2-user/anaconda3/envs/tensorflow_p36/lib/python3.6/site-packages/keras/backend/tensorflow_backend.py:3976: The name tf.nn.max_pool is deprecated. Please use tf.nn.max_pool2d instead.\n",
      "\n",
      "WARNING:tensorflow:From /home/ec2-user/anaconda3/envs/tensorflow_p36/lib/python3.6/site-packages/keras/backend/tensorflow_backend.py:3980: The name tf.nn.avg_pool is deprecated. Please use tf.nn.avg_pool2d instead.\n",
      "\n",
      "Downloading data from https://github.com/fchollet/deep-learning-models/releases/download/v0.5/inception_v3_weights_tf_dim_ordering_tf_kernels_notop.h5\n",
      "87916544/87910968 [==============================] - 3s 0us/step\n",
      "WARNING:tensorflow:From /home/ec2-user/anaconda3/envs/tensorflow_p36/lib/python3.6/site-packages/keras/backend/tensorflow_backend.py:2018: The name tf.image.resize_nearest_neighbor is deprecated. Please use tf.compat.v1.image.resize_nearest_neighbor instead.\n",
      "\n",
      "_________________________________________________________________\n",
      "Layer (type)                 Output Shape              Param #   \n",
      "=================================================================\n",
      "input_2 (InputLayer)         (None, 224, 224, 3)       0         \n",
      "_________________________________________________________________\n",
      "conv2d_95 (Conv2D)           (None, 224, 224, 3)       12        \n",
      "_________________________________________________________________\n",
      "model_1 (Model)              multiple                  29933105  \n",
      "_________________________________________________________________\n",
      "conv2d_96 (Conv2D)           (None, 224, 224, 3)       6         \n",
      "=================================================================\n",
      "Total params: 29,933,123\n",
      "Trainable params: 29,896,707\n",
      "Non-trainable params: 36,416\n",
      "_________________________________________________________________\n"
     ]
    }
   ],
   "source": [
    "\n",
    "N = x_train.shape[-1]\n",
    "\n",
    "base_model = Unet(backbone_name='inceptionv3', encoder_weights='imagenet')\n",
    "\n",
    "inp = Input(shape=(224, 224, N))\n",
    "l1 = Conv2D(3, (1,1))(inp)\n",
    "out = base_model(l1)\n",
    "l2 = Conv2D(3,(1,1))(out)\n",
    "model = Model(inp, l2, name=base_model.name)\n",
    "model.summary()"
   ]
  },
  {
   "cell_type": "code",
   "execution_count": 39,
   "metadata": {},
   "outputs": [],
   "source": [
    "import tensorflow as tf\n",
    "from keras.optimizers import Adam\n",
    "from tensorflow.keras.losses import binary_crossentropy"
   ]
  },
  {
   "cell_type": "code",
   "execution_count": 40,
   "metadata": {},
   "outputs": [],
   "source": [
    "def dice_coeff(y_true, y_pred):\n",
    "    numerator = 2*tf.reduce_sum(y_pred*y_true)\n",
    "    denominator = tf.reduce_sum(y_true+y_pred)\n",
    "    return numerator/(denominator+tf.keras.backend.epsilon())"
   ]
  },
  {
   "cell_type": "code",
   "execution_count": 41,
   "metadata": {},
   "outputs": [],
   "source": [
    "def loss(y_true, y_pred):\n",
    "    return binary_crossentropy(y_true, y_pred) - tf.log(dice_coeff(y_true, y_pred) + tf.keras.backend.epsilon())"
   ]
  },
  {
   "cell_type": "code",
   "execution_count": 42,
   "metadata": {},
   "outputs": [],
   "source": [
    "def soft_dice_loss(y_true, y_pred, epsilon=1e-6): \n",
    "    ''' \n",
    "    Soft dice loss calculation for arbitrary batch size, number of classes, and number of spatial dimensions.\n",
    "    Assumes the `channels_last` format.\n",
    "  \n",
    "    # Arguments\n",
    "        y_true: b x X x Y( x Z...) x c One hot encoding of ground truth\n",
    "        y_pred: b x X x Y( x Z...) x c Network output, must sum to 1 over c channel (such as after softmax) \n",
    "        epsilon: Used for numerical stability to avoid divide by zero errors\n",
    "    \n",
    "    # References\n",
    "        V-Net: Fully Convolutional Neural Networks for Volumetric Medical Image Segmentation \n",
    "        https://arxiv.org/abs/1606.04797\n",
    "        More details on Dice loss formulation \n",
    "        https://mediatum.ub.tum.de/doc/1395260/1395260.pdf (page 72)\n",
    "        \n",
    "        Adapted from https://github.com/Lasagne/Recipes/issues/99#issuecomment-347775022\n",
    "    '''\n",
    "    \n",
    "    # skip the batch and class axis for calculating Dice score\n",
    "    axes = tuple(range(1, len(y_pred.shape)-1)) \n",
    "    numerator = 2. * np.sum(y_pred * y_true, axes)\n",
    "    denominator = np.sum(np.square(y_pred) + np.square(y_true), axes)\n",
    "    \n",
    "    return 1 - np.mean((numerator + epsilon) / (denominator + epsilon))"
   ]
  },
  {
   "cell_type": "code",
   "execution_count": 43,
   "metadata": {},
   "outputs": [],
   "source": [
    "# json_file = open('model.json', 'r')\n",
    "# loaded_model_json = json_file.read()\n",
    "# json_file.close()\n",
    "# model = model_from_json(loaded_model_json)\n",
    "# # load weights into new model\n",
    "# model.load_weights(\"model.h5\")\n",
    "# print(\"Loaded model from disk\")"
   ]
  },
  {
   "cell_type": "code",
   "execution_count": 44,
   "metadata": {},
   "outputs": [],
   "source": [
    "from sklearn.metrics import f1_score"
   ]
  },
  {
   "cell_type": "code",
   "execution_count": 45,
   "metadata": {},
   "outputs": [
    {
     "name": "stdout",
     "output_type": "stream",
     "text": [
      "WARNING:tensorflow:From /home/ec2-user/anaconda3/envs/tensorflow_p36/lib/python3.6/site-packages/keras/optimizers.py:790: The name tf.train.Optimizer is deprecated. Please use tf.compat.v1.train.Optimizer instead.\n",
      "\n"
     ]
    }
   ],
   "source": [
    "model.compile('Adam', loss=loss, metrics=[dice_coeff])"
   ]
  },
  {
   "cell_type": "code",
   "execution_count": 46,
   "metadata": {},
   "outputs": [],
   "source": [
    "checkpoint_filepath = 'final/checkpoint'\n",
    "model_checkpoint_callback = keras.callbacks.ModelCheckpoint(\n",
    "    filepath=checkpoint_filepath,\n",
    "    save_weights_only=True,\n",
    "    monitor='val_dice_coeff',\n",
    "    mode='max',\n",
    "    save_best_only=True)\n",
    "\n",
    "es = tf.keras.callbacks.EarlyStopping(monitor='val_dice_coeff', mode='max', patience = 7)"
   ]
  },
  {
   "cell_type": "code",
   "execution_count": 113,
   "metadata": {},
   "outputs": [
    {
     "name": "stdout",
     "output_type": "stream",
     "text": [
      "WARNING:tensorflow:From /home/ec2-user/anaconda3/envs/tensorflow_p36/cpu/lib/python3.6/site-packages/tensorflow_core/python/ops/math_grad.py:1424: where (from tensorflow.python.ops.array_ops) is deprecated and will be removed in a future version.\n",
      "Instructions for updating:\n",
      "Use tf.where in 2.0, which has the same broadcast rule as np.where\n",
      "WARNING:tensorflow:From /home/ec2-user/anaconda3/envs/tensorflow_p36/lib/python3.6/site-packages/keras/backend/tensorflow_backend.py:986: The name tf.assign_add is deprecated. Please use tf.compat.v1.assign_add instead.\n",
      "\n",
      "WARNING:tensorflow:From /home/ec2-user/anaconda3/envs/tensorflow_p36/lib/python3.6/site-packages/keras/backend/tensorflow_backend.py:973: The name tf.assign is deprecated. Please use tf.compat.v1.assign instead.\n",
      "\n",
      "Train on 84 samples, validate on 15 samples\n",
      "Epoch 1/15\n"
     ]
    },
    {
     "ename": "InvalidArgumentError",
     "evalue": "assertion failed: [`predictions` contains negative values] [Condition x >= 0 did not hold element-wise:] [x (metrics_1/mean_io_u_1/confusion_matrix/Cast:0) = ] [0 0 0...]\n\t [[{{node metrics_1/mean_io_u_1/confusion_matrix/assert_non_negative_1/assert_less_equal/Assert/AssertGuard/Assert}}]]",
     "output_type": "error",
     "traceback": [
      "\u001b[0;31m---------------------------------------------------------------------------\u001b[0m",
      "\u001b[0;31mInvalidArgumentError\u001b[0m                      Traceback (most recent call last)",
      "\u001b[0;32m<ipython-input-113-10677a1c6f7d>\u001b[0m in \u001b[0;36m<module>\u001b[0;34m\u001b[0m\n\u001b[1;32m      1\u001b[0m history = model.fit(x=x_train, y=y_train,batch_size=5, epochs=15,\n\u001b[0;32m----> 2\u001b[0;31m                     validation_data=(x_val, y_valid),verbose = 2, callbacks=[model_checkpoint_callback,es])\n\u001b[0m",
      "\u001b[0;32m~/anaconda3/envs/tensorflow_p36/lib/python3.6/site-packages/keras/engine/training.py\u001b[0m in \u001b[0;36mfit\u001b[0;34m(self, x, y, batch_size, epochs, verbose, callbacks, validation_split, validation_data, shuffle, class_weight, sample_weight, initial_epoch, steps_per_epoch, validation_steps, **kwargs)\u001b[0m\n\u001b[1;32m   1037\u001b[0m                                         \u001b[0minitial_epoch\u001b[0m\u001b[0;34m=\u001b[0m\u001b[0minitial_epoch\u001b[0m\u001b[0;34m,\u001b[0m\u001b[0;34m\u001b[0m\u001b[0;34m\u001b[0m\u001b[0m\n\u001b[1;32m   1038\u001b[0m                                         \u001b[0msteps_per_epoch\u001b[0m\u001b[0;34m=\u001b[0m\u001b[0msteps_per_epoch\u001b[0m\u001b[0;34m,\u001b[0m\u001b[0;34m\u001b[0m\u001b[0;34m\u001b[0m\u001b[0m\n\u001b[0;32m-> 1039\u001b[0;31m                                         validation_steps=validation_steps)\n\u001b[0m\u001b[1;32m   1040\u001b[0m \u001b[0;34m\u001b[0m\u001b[0m\n\u001b[1;32m   1041\u001b[0m     def evaluate(self, x=None, y=None,\n",
      "\u001b[0;32m~/anaconda3/envs/tensorflow_p36/lib/python3.6/site-packages/keras/engine/training_arrays.py\u001b[0m in \u001b[0;36mfit_loop\u001b[0;34m(model, f, ins, out_labels, batch_size, epochs, verbose, callbacks, val_f, val_ins, shuffle, callback_metrics, initial_epoch, steps_per_epoch, validation_steps)\u001b[0m\n\u001b[1;32m    197\u001b[0m                     \u001b[0mins_batch\u001b[0m\u001b[0;34m[\u001b[0m\u001b[0mi\u001b[0m\u001b[0;34m]\u001b[0m \u001b[0;34m=\u001b[0m \u001b[0mins_batch\u001b[0m\u001b[0;34m[\u001b[0m\u001b[0mi\u001b[0m\u001b[0;34m]\u001b[0m\u001b[0;34m.\u001b[0m\u001b[0mtoarray\u001b[0m\u001b[0;34m(\u001b[0m\u001b[0;34m)\u001b[0m\u001b[0;34m\u001b[0m\u001b[0;34m\u001b[0m\u001b[0m\n\u001b[1;32m    198\u001b[0m \u001b[0;34m\u001b[0m\u001b[0m\n\u001b[0;32m--> 199\u001b[0;31m                 \u001b[0mouts\u001b[0m \u001b[0;34m=\u001b[0m \u001b[0mf\u001b[0m\u001b[0;34m(\u001b[0m\u001b[0mins_batch\u001b[0m\u001b[0;34m)\u001b[0m\u001b[0;34m\u001b[0m\u001b[0;34m\u001b[0m\u001b[0m\n\u001b[0m\u001b[1;32m    200\u001b[0m                 \u001b[0mouts\u001b[0m \u001b[0;34m=\u001b[0m \u001b[0mto_list\u001b[0m\u001b[0;34m(\u001b[0m\u001b[0mouts\u001b[0m\u001b[0;34m)\u001b[0m\u001b[0;34m\u001b[0m\u001b[0;34m\u001b[0m\u001b[0m\n\u001b[1;32m    201\u001b[0m                 \u001b[0;32mfor\u001b[0m \u001b[0ml\u001b[0m\u001b[0;34m,\u001b[0m \u001b[0mo\u001b[0m \u001b[0;32min\u001b[0m \u001b[0mzip\u001b[0m\u001b[0;34m(\u001b[0m\u001b[0mout_labels\u001b[0m\u001b[0;34m,\u001b[0m \u001b[0mouts\u001b[0m\u001b[0;34m)\u001b[0m\u001b[0;34m:\u001b[0m\u001b[0;34m\u001b[0m\u001b[0;34m\u001b[0m\u001b[0m\n",
      "\u001b[0;32m~/anaconda3/envs/tensorflow_p36/lib/python3.6/site-packages/keras/backend/tensorflow_backend.py\u001b[0m in \u001b[0;36m__call__\u001b[0;34m(self, inputs)\u001b[0m\n\u001b[1;32m   2713\u001b[0m                 \u001b[0;32mreturn\u001b[0m \u001b[0mself\u001b[0m\u001b[0;34m.\u001b[0m\u001b[0m_legacy_call\u001b[0m\u001b[0;34m(\u001b[0m\u001b[0minputs\u001b[0m\u001b[0;34m)\u001b[0m\u001b[0;34m\u001b[0m\u001b[0;34m\u001b[0m\u001b[0m\n\u001b[1;32m   2714\u001b[0m \u001b[0;34m\u001b[0m\u001b[0m\n\u001b[0;32m-> 2715\u001b[0;31m             \u001b[0;32mreturn\u001b[0m \u001b[0mself\u001b[0m\u001b[0;34m.\u001b[0m\u001b[0m_call\u001b[0m\u001b[0;34m(\u001b[0m\u001b[0minputs\u001b[0m\u001b[0;34m)\u001b[0m\u001b[0;34m\u001b[0m\u001b[0;34m\u001b[0m\u001b[0m\n\u001b[0m\u001b[1;32m   2716\u001b[0m         \u001b[0;32melse\u001b[0m\u001b[0;34m:\u001b[0m\u001b[0;34m\u001b[0m\u001b[0;34m\u001b[0m\u001b[0m\n\u001b[1;32m   2717\u001b[0m             \u001b[0;32mif\u001b[0m \u001b[0mpy_any\u001b[0m\u001b[0;34m(\u001b[0m\u001b[0mis_tensor\u001b[0m\u001b[0;34m(\u001b[0m\u001b[0mx\u001b[0m\u001b[0;34m)\u001b[0m \u001b[0;32mfor\u001b[0m \u001b[0mx\u001b[0m \u001b[0;32min\u001b[0m \u001b[0minputs\u001b[0m\u001b[0;34m)\u001b[0m\u001b[0;34m:\u001b[0m\u001b[0;34m\u001b[0m\u001b[0;34m\u001b[0m\u001b[0m\n",
      "\u001b[0;32m~/anaconda3/envs/tensorflow_p36/lib/python3.6/site-packages/keras/backend/tensorflow_backend.py\u001b[0m in \u001b[0;36m_call\u001b[0;34m(self, inputs)\u001b[0m\n\u001b[1;32m   2673\u001b[0m             \u001b[0mfetched\u001b[0m \u001b[0;34m=\u001b[0m \u001b[0mself\u001b[0m\u001b[0;34m.\u001b[0m\u001b[0m_callable_fn\u001b[0m\u001b[0;34m(\u001b[0m\u001b[0;34m*\u001b[0m\u001b[0marray_vals\u001b[0m\u001b[0;34m,\u001b[0m \u001b[0mrun_metadata\u001b[0m\u001b[0;34m=\u001b[0m\u001b[0mself\u001b[0m\u001b[0;34m.\u001b[0m\u001b[0mrun_metadata\u001b[0m\u001b[0;34m)\u001b[0m\u001b[0;34m\u001b[0m\u001b[0;34m\u001b[0m\u001b[0m\n\u001b[1;32m   2674\u001b[0m         \u001b[0;32melse\u001b[0m\u001b[0;34m:\u001b[0m\u001b[0;34m\u001b[0m\u001b[0;34m\u001b[0m\u001b[0m\n\u001b[0;32m-> 2675\u001b[0;31m             \u001b[0mfetched\u001b[0m \u001b[0;34m=\u001b[0m \u001b[0mself\u001b[0m\u001b[0;34m.\u001b[0m\u001b[0m_callable_fn\u001b[0m\u001b[0;34m(\u001b[0m\u001b[0;34m*\u001b[0m\u001b[0marray_vals\u001b[0m\u001b[0;34m)\u001b[0m\u001b[0;34m\u001b[0m\u001b[0;34m\u001b[0m\u001b[0m\n\u001b[0m\u001b[1;32m   2676\u001b[0m         \u001b[0;32mreturn\u001b[0m \u001b[0mfetched\u001b[0m\u001b[0;34m[\u001b[0m\u001b[0;34m:\u001b[0m\u001b[0mlen\u001b[0m\u001b[0;34m(\u001b[0m\u001b[0mself\u001b[0m\u001b[0;34m.\u001b[0m\u001b[0moutputs\u001b[0m\u001b[0;34m)\u001b[0m\u001b[0;34m]\u001b[0m\u001b[0;34m\u001b[0m\u001b[0;34m\u001b[0m\u001b[0m\n\u001b[1;32m   2677\u001b[0m \u001b[0;34m\u001b[0m\u001b[0m\n",
      "\u001b[0;32m~/anaconda3/envs/tensorflow_p36/cpu/lib/python3.6/site-packages/tensorflow_core/python/client/session.py\u001b[0m in \u001b[0;36m__call__\u001b[0;34m(self, *args, **kwargs)\u001b[0m\n\u001b[1;32m   1470\u001b[0m         ret = tf_session.TF_SessionRunCallable(self._session._session,\n\u001b[1;32m   1471\u001b[0m                                                \u001b[0mself\u001b[0m\u001b[0;34m.\u001b[0m\u001b[0m_handle\u001b[0m\u001b[0;34m,\u001b[0m \u001b[0margs\u001b[0m\u001b[0;34m,\u001b[0m\u001b[0;34m\u001b[0m\u001b[0;34m\u001b[0m\u001b[0m\n\u001b[0;32m-> 1472\u001b[0;31m                                                run_metadata_ptr)\n\u001b[0m\u001b[1;32m   1473\u001b[0m         \u001b[0;32mif\u001b[0m \u001b[0mrun_metadata\u001b[0m\u001b[0;34m:\u001b[0m\u001b[0;34m\u001b[0m\u001b[0;34m\u001b[0m\u001b[0m\n\u001b[1;32m   1474\u001b[0m           \u001b[0mproto_data\u001b[0m \u001b[0;34m=\u001b[0m \u001b[0mtf_session\u001b[0m\u001b[0;34m.\u001b[0m\u001b[0mTF_GetBuffer\u001b[0m\u001b[0;34m(\u001b[0m\u001b[0mrun_metadata_ptr\u001b[0m\u001b[0;34m)\u001b[0m\u001b[0;34m\u001b[0m\u001b[0;34m\u001b[0m\u001b[0m\n",
      "\u001b[0;31mInvalidArgumentError\u001b[0m: assertion failed: [`predictions` contains negative values] [Condition x >= 0 did not hold element-wise:] [x (metrics_1/mean_io_u_1/confusion_matrix/Cast:0) = ] [0 0 0...]\n\t [[{{node metrics_1/mean_io_u_1/confusion_matrix/assert_non_negative_1/assert_less_equal/Assert/AssertGuard/Assert}}]]"
     ]
    }
   ],
   "source": [
    "history = model.fit(x=x_train, y=y_train,batch_size=5, epochs=15,\n",
    "                    validation_data=(x_val, y_valid),verbose = 2, callbacks=[model_checkpoint_callback,es])"
   ]
  },
  {
   "cell_type": "code",
   "execution_count": 58,
   "metadata": {},
   "outputs": [],
   "source": [
    "import pickle\n",
    "geeky_file = open('history1', 'wb') \n",
    "pickle.dump(history.history, geeky_file)\n",
    "geeky_file.close() \n"
   ]
  },
  {
   "cell_type": "code",
   "execution_count": 63,
   "metadata": {},
   "outputs": [],
   "source": [
    "# file = open(\"history1\",'rb')\n",
    "# object_file = pickle.load(file)\n"
   ]
  },
  {
   "cell_type": "code",
   "execution_count": 65,
   "metadata": {
    "collapsed": true,
    "jupyter": {
     "outputs_hidden": true
    }
   },
   "outputs": [
    {
     "name": "stdout",
     "output_type": "stream",
     "text": [
      "Train on 84 samples, validate on 15 samples\n",
      "Epoch 1/30\n",
      " - 43s - loss: 1.3062 - dice_coeff: 0.4648 - val_loss: 2.3549 - val_dice_coeff: 0.2526\n",
      "Epoch 2/30\n",
      " - 37s - loss: 1.2561 - dice_coeff: 0.4772 - val_loss: 2.4030 - val_dice_coeff: 0.2414\n",
      "Epoch 3/30\n",
      " - 38s - loss: 1.1989 - dice_coeff: 0.5045 - val_loss: 2.1149 - val_dice_coeff: 0.2993\n",
      "Epoch 4/30\n",
      " - 38s - loss: 1.1519 - dice_coeff: 0.5214 - val_loss: 1.9621 - val_dice_coeff: 0.3442\n",
      "Epoch 5/30\n",
      " - 37s - loss: 1.1371 - dice_coeff: 0.5315 - val_loss: 1.4145 - val_dice_coeff: 0.4599\n",
      "Epoch 6/30\n",
      " - 37s - loss: 1.1508 - dice_coeff: 0.5273 - val_loss: 1.3612 - val_dice_coeff: 0.4779\n",
      "Epoch 7/30\n",
      " - 36s - loss: 1.1243 - dice_coeff: 0.5398 - val_loss: 1.5470 - val_dice_coeff: 0.4482\n",
      "Epoch 8/30\n",
      " - 36s - loss: 1.0872 - dice_coeff: 0.5561 - val_loss: 1.2811 - val_dice_coeff: 0.5042\n",
      "Epoch 9/30\n",
      " - 38s - loss: 1.0641 - dice_coeff: 0.5682 - val_loss: 1.3615 - val_dice_coeff: 0.5056\n",
      "Epoch 10/30\n",
      " - 37s - loss: 1.0638 - dice_coeff: 0.5725 - val_loss: 1.8326 - val_dice_coeff: 0.3784\n",
      "Epoch 11/30\n",
      " - 37s - loss: 1.1445 - dice_coeff: 0.5444 - val_loss: 2.2891 - val_dice_coeff: 0.2657\n",
      "Epoch 12/30\n",
      " - 37s - loss: 1.0798 - dice_coeff: 0.5668 - val_loss: 1.9163 - val_dice_coeff: 0.3621\n",
      "Epoch 13/30\n",
      " - 36s - loss: 1.0471 - dice_coeff: 0.5841 - val_loss: 1.9442 - val_dice_coeff: 0.3440\n",
      "Epoch 14/30\n",
      " - 38s - loss: 1.0178 - dice_coeff: 0.5988 - val_loss: 1.7603 - val_dice_coeff: 0.4034\n",
      "Epoch 15/30\n",
      " - 37s - loss: 0.9963 - dice_coeff: 0.6059 - val_loss: 1.3334 - val_dice_coeff: 0.5168\n",
      "Epoch 16/30\n",
      " - 36s - loss: 0.9728 - dice_coeff: 0.6185 - val_loss: 1.5433 - val_dice_coeff: 0.4692\n",
      "Epoch 17/30\n",
      " - 36s - loss: 1.1257 - dice_coeff: 0.5726 - val_loss: 2.2211 - val_dice_coeff: 0.2832\n",
      "Epoch 18/30\n",
      " - 36s - loss: 1.2544 - dice_coeff: 0.5255 - val_loss: 2.2775 - val_dice_coeff: 0.2688\n",
      "Epoch 19/30\n",
      " - 37s - loss: 1.1988 - dice_coeff: 0.5332 - val_loss: 2.2668 - val_dice_coeff: 0.2715\n",
      "Epoch 20/30\n",
      " - 36s - loss: 1.1802 - dice_coeff: 0.5411 - val_loss: 2.2404 - val_dice_coeff: 0.2782\n",
      "Epoch 21/30\n",
      " - 36s - loss: 1.1429 - dice_coeff: 0.5522 - val_loss: 2.2666 - val_dice_coeff: 0.2716\n",
      "Epoch 22/30\n",
      " - 36s - loss: 1.1298 - dice_coeff: 0.5585 - val_loss: 1.9708 - val_dice_coeff: 0.3429\n",
      "Epoch 23/30\n",
      " - 36s - loss: 1.1435 - dice_coeff: 0.5539 - val_loss: 1.8423 - val_dice_coeff: 0.3710\n",
      "Epoch 24/30\n",
      " - 38s - loss: 1.1837 - dice_coeff: 0.5409 - val_loss: 1.9144 - val_dice_coeff: 0.3552\n",
      "Epoch 25/30\n",
      " - 36s - loss: 1.1349 - dice_coeff: 0.5557 - val_loss: 1.8482 - val_dice_coeff: 0.3806\n",
      "Epoch 26/30\n",
      " - 36s - loss: 1.1335 - dice_coeff: 0.5557 - val_loss: 1.8474 - val_dice_coeff: 0.3816\n",
      "Epoch 27/30\n",
      " - 37s - loss: 1.1148 - dice_coeff: 0.5610 - val_loss: 1.7607 - val_dice_coeff: 0.4045\n",
      "Epoch 28/30\n",
      " - 37s - loss: 1.1044 - dice_coeff: 0.5660 - val_loss: 1.6636 - val_dice_coeff: 0.4332\n",
      "Epoch 29/30\n",
      " - 38s - loss: 1.0851 - dice_coeff: 0.5724 - val_loss: 1.3890 - val_dice_coeff: 0.5186\n",
      "Epoch 30/30\n",
      " - 36s - loss: 1.0700 - dice_coeff: 0.5779 - val_loss: 1.2794 - val_dice_coeff: 0.5383\n"
     ]
    }
   ],
   "source": [
    "history2 = model.fit(x=x_train, y=y_train,batch_size=5, epochs=30,\n",
    "                    validation_data=(x_val, y_valid),verbose = 2, callbacks=[model_checkpoint_callback,es])"
   ]
  },
  {
   "cell_type": "code",
   "execution_count": 68,
   "metadata": {},
   "outputs": [],
   "source": [
    "import pickle\n",
    "geeky_file = open('history2', 'wb') \n",
    "pickle.dump(history2.history, geeky_file)\n",
    "geeky_file.close() "
   ]
  },
  {
   "cell_type": "code",
   "execution_count": 69,
   "metadata": {
    "collapsed": true,
    "jupyter": {
     "outputs_hidden": true
    }
   },
   "outputs": [
    {
     "name": "stdout",
     "output_type": "stream",
     "text": [
      "Train on 84 samples, validate on 15 samples\n",
      "Epoch 1/30\n",
      " - 36s - loss: 1.0671 - dice_coeff: 0.5802 - val_loss: 1.4865 - val_dice_coeff: 0.5017\n",
      "Epoch 2/30\n",
      " - 36s - loss: 1.1079 - dice_coeff: 0.5674 - val_loss: 1.6272 - val_dice_coeff: 0.4584\n",
      "Epoch 3/30\n",
      " - 37s - loss: 1.0732 - dice_coeff: 0.5777 - val_loss: 1.4185 - val_dice_coeff: 0.5147\n",
      "Epoch 4/30\n",
      " - 37s - loss: 1.0444 - dice_coeff: 0.5934 - val_loss: 1.2418 - val_dice_coeff: 0.5566\n",
      "Epoch 5/30\n",
      " - 38s - loss: 1.0299 - dice_coeff: 0.5968 - val_loss: 1.1962 - val_dice_coeff: 0.5724\n",
      "Epoch 6/30\n",
      " - 36s - loss: 1.0297 - dice_coeff: 0.6015 - val_loss: 1.2194 - val_dice_coeff: 0.5503\n",
      "Epoch 7/30\n",
      " - 36s - loss: 0.9983 - dice_coeff: 0.6061 - val_loss: 1.2079 - val_dice_coeff: 0.5619\n",
      "Epoch 8/30\n",
      " - 36s - loss: 0.9982 - dice_coeff: 0.6140 - val_loss: 1.1823 - val_dice_coeff: 0.5632\n",
      "Epoch 9/30\n",
      " - 38s - loss: 0.9811 - dice_coeff: 0.6185 - val_loss: 1.4531 - val_dice_coeff: 0.4967\n",
      "Epoch 10/30\n",
      " - 36s - loss: 1.0606 - dice_coeff: 0.5907 - val_loss: 1.4900 - val_dice_coeff: 0.4925\n",
      "Epoch 11/30\n",
      " - 36s - loss: 1.0116 - dice_coeff: 0.6067 - val_loss: 1.6711 - val_dice_coeff: 0.4396\n",
      "Epoch 12/30\n",
      " - 36s - loss: 1.0240 - dice_coeff: 0.6075 - val_loss: 1.6912 - val_dice_coeff: 0.4410\n",
      "Epoch 13/30\n",
      " - 36s - loss: 1.0649 - dice_coeff: 0.5884 - val_loss: 1.9696 - val_dice_coeff: 0.3584\n",
      "Epoch 14/30\n",
      " - 37s - loss: 1.0442 - dice_coeff: 0.5944 - val_loss: 1.5235 - val_dice_coeff: 0.4770\n",
      "Epoch 15/30\n",
      " - 36s - loss: 1.0268 - dice_coeff: 0.6034 - val_loss: 1.5858 - val_dice_coeff: 0.4528\n",
      "Epoch 16/30\n",
      " - 36s - loss: 0.9761 - dice_coeff: 0.6222 - val_loss: 1.4434 - val_dice_coeff: 0.5073\n",
      "Epoch 17/30\n",
      " - 36s - loss: 0.9418 - dice_coeff: 0.6352 - val_loss: 1.6350 - val_dice_coeff: 0.4535\n",
      "Epoch 18/30\n",
      " - 36s - loss: 0.9417 - dice_coeff: 0.6335 - val_loss: 1.2799 - val_dice_coeff: 0.5472\n",
      "Epoch 19/30\n",
      " - 38s - loss: 0.9271 - dice_coeff: 0.6430 - val_loss: 1.1733 - val_dice_coeff: 0.5707\n",
      "Epoch 20/30\n",
      " - 37s - loss: 0.9063 - dice_coeff: 0.6496 - val_loss: 1.1524 - val_dice_coeff: 0.5735\n",
      "Epoch 21/30\n",
      " - 37s - loss: 0.8871 - dice_coeff: 0.6566 - val_loss: 1.1158 - val_dice_coeff: 0.5880\n",
      "Epoch 22/30\n",
      " - 37s - loss: 0.8787 - dice_coeff: 0.6653 - val_loss: 1.2402 - val_dice_coeff: 0.5552\n",
      "Epoch 23/30\n",
      " - 37s - loss: 0.8744 - dice_coeff: 0.6660 - val_loss: 1.1733 - val_dice_coeff: 0.5903\n",
      "Epoch 24/30\n",
      " - 38s - loss: 0.8893 - dice_coeff: 0.6594 - val_loss: 1.1757 - val_dice_coeff: 0.5718\n",
      "Epoch 25/30\n",
      " - 36s - loss: 0.8944 - dice_coeff: 0.6609 - val_loss: 1.0798 - val_dice_coeff: 0.5919\n",
      "Epoch 26/30\n",
      " - 36s - loss: 0.8525 - dice_coeff: 0.6751 - val_loss: 1.1033 - val_dice_coeff: 0.5973\n",
      "Epoch 27/30\n",
      " - 36s - loss: 0.8470 - dice_coeff: 0.6763 - val_loss: 1.2505 - val_dice_coeff: 0.5433\n",
      "Epoch 28/30\n",
      " - 36s - loss: 0.8518 - dice_coeff: 0.6761 - val_loss: 1.1859 - val_dice_coeff: 0.5683\n",
      "Epoch 29/30\n",
      " - 38s - loss: 1.0646 - dice_coeff: 0.6000 - val_loss: 2.1960 - val_dice_coeff: 0.3182\n",
      "Epoch 30/30\n",
      " - 36s - loss: 1.0751 - dice_coeff: 0.5847 - val_loss: 1.7798 - val_dice_coeff: 0.4263\n"
     ]
    }
   ],
   "source": [
    "history3 = model.fit(x=x_train, y=y_train,batch_size=5, epochs=30,\n",
    "                    validation_data=(x_val, y_valid),verbose = 2, callbacks=[model_checkpoint_callback,es])"
   ]
  },
  {
   "cell_type": "code",
   "execution_count": 85,
   "metadata": {},
   "outputs": [],
   "source": [
    "import pickle\n",
    "geeky_file = open('history3', 'wb') \n",
    "pickle.dump(history3.history, geeky_file)\n",
    "geeky_file.close() "
   ]
  },
  {
   "cell_type": "code",
   "execution_count": 81,
   "metadata": {},
   "outputs": [],
   "source": [
    "a = history.history['val_dice_coeff']\n",
    "b = history2.history['val_dice_coeff']\n",
    "c = history3.history['val_dice_coeff']\n",
    "\n",
    "d = a+b+c"
   ]
  },
  {
   "cell_type": "code",
   "execution_count": 78,
   "metadata": {
    "collapsed": true,
    "jupyter": {
     "outputs_hidden": true
    }
   },
   "outputs": [
    {
     "name": "stdout",
     "output_type": "stream",
     "text": [
      "Train on 84 samples, validate on 15 samples\n",
      "Epoch 1/20\n",
      " - 37s - loss: 0.9996 - dice_coeff: 0.6135 - val_loss: 2.0052 - val_dice_coeff: 0.3782\n",
      "Epoch 2/20\n",
      " - 39s - loss: 0.9589 - dice_coeff: 0.6274 - val_loss: 1.7712 - val_dice_coeff: 0.4391\n",
      "Epoch 3/20\n",
      " - 37s - loss: 0.9354 - dice_coeff: 0.6390 - val_loss: 1.6667 - val_dice_coeff: 0.4722\n",
      "Epoch 4/20\n",
      " - 37s - loss: 0.9157 - dice_coeff: 0.6496 - val_loss: 1.1702 - val_dice_coeff: 0.5828\n",
      "Epoch 5/20\n",
      " - 37s - loss: 0.8964 - dice_coeff: 0.6596 - val_loss: 1.1148 - val_dice_coeff: 0.6113\n",
      "Epoch 6/20\n",
      " - 38s - loss: 0.8943 - dice_coeff: 0.6631 - val_loss: 1.1796 - val_dice_coeff: 0.5758\n",
      "Epoch 7/20\n",
      " - 36s - loss: 0.8738 - dice_coeff: 0.6745 - val_loss: 1.1321 - val_dice_coeff: 0.5867\n",
      "Epoch 8/20\n",
      " - 36s - loss: 0.9274 - dice_coeff: 0.6533 - val_loss: 1.1761 - val_dice_coeff: 0.5904\n",
      "Epoch 9/20\n",
      " - 36s - loss: 0.8794 - dice_coeff: 0.6675 - val_loss: 1.0575 - val_dice_coeff: 0.6271\n",
      "Epoch 10/20\n",
      " - 36s - loss: 0.8381 - dice_coeff: 0.6873 - val_loss: 1.0618 - val_dice_coeff: 0.6221\n",
      "Epoch 11/20\n",
      " - 37s - loss: 1.1865 - dice_coeff: 0.5665 - val_loss: 2.5454 - val_dice_coeff: 0.2605\n",
      "Epoch 12/20\n",
      " - 36s - loss: 1.1931 - dice_coeff: 0.5456 - val_loss: 2.5584 - val_dice_coeff: 0.2475\n",
      "Epoch 13/20\n",
      " - 36s - loss: 1.1279 - dice_coeff: 0.5659 - val_loss: 2.2144 - val_dice_coeff: 0.3266\n",
      "Epoch 14/20\n",
      " - 36s - loss: 1.0558 - dice_coeff: 0.5948 - val_loss: 2.0610 - val_dice_coeff: 0.3735\n",
      "Epoch 15/20\n",
      " - 36s - loss: 1.0150 - dice_coeff: 0.6125 - val_loss: 1.7694 - val_dice_coeff: 0.4554\n",
      "Epoch 16/20\n",
      " - 38s - loss: 0.9829 - dice_coeff: 0.6275 - val_loss: 1.5311 - val_dice_coeff: 0.5198\n",
      "Epoch 17/20\n",
      " - 36s - loss: 0.9314 - dice_coeff: 0.6487 - val_loss: 1.3959 - val_dice_coeff: 0.5401\n",
      "Epoch 18/20\n",
      " - 37s - loss: 0.9408 - dice_coeff: 0.6460 - val_loss: 1.2996 - val_dice_coeff: 0.5564\n",
      "Epoch 19/20\n",
      " - 36s - loss: 0.9748 - dice_coeff: 0.6389 - val_loss: 1.7836 - val_dice_coeff: 0.4472\n",
      "Epoch 20/20\n",
      " - 36s - loss: 0.9704 - dice_coeff: 0.6387 - val_loss: 1.3108 - val_dice_coeff: 0.5645\n"
     ]
    }
   ],
   "source": [
    "history4 = model.fit(x=x_train, y=y_train,batch_size=5, epochs=20,\n",
    "                    validation_data=(x_val, y_valid),verbose = 2, callbacks=[model_checkpoint_callback,es])"
   ]
  },
  {
   "cell_type": "code",
   "execution_count": 86,
   "metadata": {},
   "outputs": [],
   "source": [
    "import pickle\n",
    "geeky_file = open('history4', 'wb') \n",
    "pickle.dump(history4.history, geeky_file)\n",
    "geeky_file.close() "
   ]
  },
  {
   "cell_type": "code",
   "execution_count": 82,
   "metadata": {},
   "outputs": [
    {
     "data": {
      "text/plain": [
       "[<matplotlib.lines.Line2D at 0x7feb18cb6630>]"
      ]
     },
     "execution_count": 82,
     "metadata": {},
     "output_type": "execute_result"
    },
    {
     "data": {
      "image/png": "[encoded data removed]",
      "text/plain": [
       "<Figure size 432x288 with 1 Axes>"
      ]
     },
     "metadata": {
      "needs_background": "light"
     },
     "output_type": "display_data"
    }
   ],
   "source": [
    "e = history4.history[\"val_dice_coeff\"]\n",
    "f = d+e\n",
    "plt.plot(f)"
   ]
  },
  {
   "cell_type": "code",
   "execution_count": 84,
   "metadata": {},
   "outputs": [
    {
     "data": {
      "image/png": "[encoded data removed]",
      "text/plain": [
       "<Figure size 432x288 with 1 Axes>"
      ]
     },
     "metadata": {
      "needs_background": "light"
     },
     "output_type": "display_data"
    }
   ],
   "source": [
    "plt.plot(f)\n",
    "plt.xlabel(\"Epochs\")\n",
    "plt.ylabel(\"Validation Dice Coefficeint\")\n",
    "plt.savefig(\"val_dice_coeff\")"
   ]
  },
  {
   "cell_type": "code",
   "execution_count": 87,
   "metadata": {},
   "outputs": [],
   "source": [
    "file = open(\"history1\",'rb')\n",
    "object_file1 = pickle.load(file)\n",
    "\n",
    "file = open(\"history2\",'rb')\n",
    "object_file2 = pickle.load(file)\n",
    "\n",
    "file = open(\"history3\",'rb')\n",
    "object_file3 = pickle.load(file)\n",
    "\n",
    "file = open(\"history4\",'rb')\n",
    "object_file4 = pickle.load(file)\n"
   ]
  },
  {
   "cell_type": "code",
   "execution_count": 89,
   "metadata": {},
   "outputs": [
    {
     "data": {
      "image/png": "[encoded data removed]",
      "text/plain": [
       "<Figure size 432x288 with 1 Axes>"
      ]
     },
     "metadata": {
      "needs_background": "light"
     },
     "output_type": "display_data"
    }
   ],
   "source": [
    "a = history.history['val_loss']\n",
    "b = history2.history['val_loss']\n",
    "c = history3.history['val_loss']\n",
    "e = history4.history[\"val_loss\"]\n",
    "f = a+b+c+e\n",
    "plt.plot(f)\n",
    "plt.xlabel(\"Epochs\")\n",
    "plt.ylabel(\"Validation loss\")\n",
    "plt.savefig(\"val_loss\")"
   ]
  },
  {
   "cell_type": "code",
   "execution_count": 47,
   "metadata": {},
   "outputs": [],
   "source": [
    "model.load_weights('final/checkpoint')"
   ]
  },
  {
   "cell_type": "code",
   "execution_count": 50,
   "metadata": {},
   "outputs": [],
   "source": [
    "history = model.evaluate(x=x[:100], y=y[:100], verbose=2)"
   ]
  },
  {
   "cell_type": "code",
   "execution_count": 51,
   "metadata": {},
   "outputs": [
    {
     "data": {
      "text/plain": [
       "[2.184026861190796, 0.31512707471847534]"
      ]
     },
     "execution_count": 51,
     "metadata": {},
     "output_type": "execute_result"
    }
   ],
   "source": [
    "history"
   ]
  },
  {
   "cell_type": "code",
   "execution_count": 74,
   "metadata": {},
   "outputs": [
    {
     "ename": "ValueError",
     "evalue": "multiclass format is not supported",
     "output_type": "error",
     "traceback": [
      "\u001b[0;31m---------------------------------------------------------------------------\u001b[0m",
      "\u001b[0;31mValueError\u001b[0m                                Traceback (most recent call last)",
      "\u001b[0;32m<ipython-input-74-0498420e1256>\u001b[0m in \u001b[0;36m<module>\u001b[0;34m\u001b[0m\n\u001b[1;32m      4\u001b[0m \u001b[0mans\u001b[0m \u001b[0;34m=\u001b[0m \u001b[0manswer\u001b[0m\u001b[0;34m[\u001b[0m\u001b[0;36m0\u001b[0m\u001b[0;34m]\u001b[0m\u001b[0;34m*\u001b[0m\u001b[0;36m255\u001b[0m\u001b[0;34m\u001b[0m\u001b[0;34m\u001b[0m\u001b[0m\n\u001b[1;32m      5\u001b[0m \u001b[0mscore_value\u001b[0m \u001b[0;34m=\u001b[0m \u001b[0mans\u001b[0m\u001b[0;34m.\u001b[0m\u001b[0mravel\u001b[0m\u001b[0;34m(\u001b[0m\u001b[0;34m)\u001b[0m \u001b[0;31m# we want to make them into vectors\u001b[0m\u001b[0;34m\u001b[0m\u001b[0;34m\u001b[0m\u001b[0m\n\u001b[0;32m----> 6\u001b[0;31m \u001b[0mfpr\u001b[0m\u001b[0;34m,\u001b[0m \u001b[0mtpr\u001b[0m\u001b[0;34m,\u001b[0m \u001b[0m_\u001b[0m \u001b[0;34m=\u001b[0m \u001b[0mroc_curve\u001b[0m\u001b[0;34m(\u001b[0m\u001b[0mground_truth_labels\u001b[0m\u001b[0;34m,\u001b[0m\u001b[0mscore_value\u001b[0m\u001b[0;34m)\u001b[0m\u001b[0;34m\u001b[0m\u001b[0;34m\u001b[0m\u001b[0m\n\u001b[0m\u001b[1;32m      7\u001b[0m \u001b[0mroc_auc\u001b[0m \u001b[0;34m=\u001b[0m \u001b[0mauc\u001b[0m\u001b[0;34m(\u001b[0m\u001b[0mfpr\u001b[0m\u001b[0;34m,\u001b[0m\u001b[0mtpr\u001b[0m\u001b[0;34m)\u001b[0m\u001b[0;34m\u001b[0m\u001b[0;34m\u001b[0m\u001b[0m\n",
      "\u001b[0;32m~/anaconda3/envs/tensorflow_p36/lib/python3.6/site-packages/sklearn/metrics/_ranking.py\u001b[0m in \u001b[0;36mroc_curve\u001b[0;34m(y_true, y_score, pos_label, sample_weight, drop_intermediate)\u001b[0m\n\u001b[1;32m    769\u001b[0m     \"\"\"\n\u001b[1;32m    770\u001b[0m     fps, tps, thresholds = _binary_clf_curve(\n\u001b[0;32m--> 771\u001b[0;31m         y_true, y_score, pos_label=pos_label, sample_weight=sample_weight)\n\u001b[0m\u001b[1;32m    772\u001b[0m \u001b[0;34m\u001b[0m\u001b[0m\n\u001b[1;32m    773\u001b[0m     \u001b[0;31m# Attempt to drop thresholds corresponding to points in between and\u001b[0m\u001b[0;34m\u001b[0m\u001b[0;34m\u001b[0m\u001b[0;34m\u001b[0m\u001b[0m\n",
      "\u001b[0;32m~/anaconda3/envs/tensorflow_p36/lib/python3.6/site-packages/sklearn/metrics/_ranking.py\u001b[0m in \u001b[0;36m_binary_clf_curve\u001b[0;34m(y_true, y_score, pos_label, sample_weight)\u001b[0m\n\u001b[1;32m    534\u001b[0m     if not (y_type == \"binary\" or\n\u001b[1;32m    535\u001b[0m             (y_type == \"multiclass\" and pos_label is not None)):\n\u001b[0;32m--> 536\u001b[0;31m         \u001b[0;32mraise\u001b[0m \u001b[0mValueError\u001b[0m\u001b[0;34m(\u001b[0m\u001b[0;34m\"{0} format is not supported\"\u001b[0m\u001b[0;34m.\u001b[0m\u001b[0mformat\u001b[0m\u001b[0;34m(\u001b[0m\u001b[0my_type\u001b[0m\u001b[0;34m)\u001b[0m\u001b[0;34m)\u001b[0m\u001b[0;34m\u001b[0m\u001b[0;34m\u001b[0m\u001b[0m\n\u001b[0m\u001b[1;32m    537\u001b[0m \u001b[0;34m\u001b[0m\u001b[0m\n\u001b[1;32m    538\u001b[0m     \u001b[0mcheck_consistent_length\u001b[0m\u001b[0;34m(\u001b[0m\u001b[0my_true\u001b[0m\u001b[0;34m,\u001b[0m \u001b[0my_score\u001b[0m\u001b[0;34m,\u001b[0m \u001b[0msample_weight\u001b[0m\u001b[0;34m)\u001b[0m\u001b[0;34m\u001b[0m\u001b[0;34m\u001b[0m\u001b[0m\n",
      "\u001b[0;31mValueError\u001b[0m: multiclass format is not supported"
     ]
    }
   ],
   "source": [
    "from sklearn.metrics import roc_curve, auc # roc curve tools\n",
    "grn = y[154]*255\n",
    "ground_truth_labels = grn.ravel() # we want to make them into vectors\\\n",
    "ans = answer[0]*255\n",
    "score_value = ans.ravel() # we want to make them into vectors\n",
    "fpr, tpr, _ = roc_curve(ground_truth_labels,score_value)\n",
    "roc_auc = auc(fpr,tpr)"
   ]
  },
  {
   "cell_type": "code",
   "execution_count": null,
   "metadata": {},
   "outputs": [],
   "source": [
    "model_json = model.to_json()\n",
    "with open(\"model.json\", \"w\") as json_file:\n",
    "    json_file.write(model_json)\n",
    "# serialize weights to HDF5\n",
    "model.save_weights(\"model.h5\")\n",
    "print(\"Saved model to disk\")\n",
    " "
   ]
  },
  {
   "cell_type": "code",
   "execution_count": 55,
   "metadata": {},
   "outputs": [],
   "source": [
    "answer = model.predict(x[154:155])"
   ]
  },
  {
   "cell_type": "code",
   "execution_count": 56,
   "metadata": {},
   "outputs": [
    {
     "data": {
      "text/plain": [
       "<matplotlib.image.AxesImage at 0x7f617ab0f9e8>"
      ]
     },
     "execution_count": 56,
     "metadata": {},
     "output_type": "execute_result"
    },
    {
     "data": {
      "image/png": "[encoded data removed]",
      "text/plain": [
       "<Figure size 432x288 with 1 Axes>"
      ]
     },
     "metadata": {
      "needs_background": "light"
     },
     "output_type": "display_data"
    }
   ],
   "source": [
    "plt.imshow(x[154])"
   ]
  },
  {
   "cell_type": "code",
   "execution_count": 66,
   "metadata": {},
   "outputs": [
    {
     "name": "stderr",
     "output_type": "stream",
     "text": [
      "Clipping input data to the valid range for imshow with RGB data ([0..1] for floats or [0..255] for integers).\n"
     ]
    },
    {
     "data": {
      "text/plain": [
       "<matplotlib.image.AxesImage at 0x7f6170d06f60>"
      ]
     },
     "execution_count": 66,
     "metadata": {},
     "output_type": "execute_result"
    },
    {
     "data": {
      "image/png": "[encoded data removed]",
      "text/plain": [
       "<Figure size 432x288 with 1 Axes>"
      ]
     },
     "metadata": {
      "needs_background": "light"
     },
     "output_type": "display_data"
    }
   ],
   "source": [
    "plt.imshow(y[154]*255)"
   ]
  },
  {
   "cell_type": "code",
   "execution_count": 67,
   "metadata": {},
   "outputs": [
    {
     "name": "stderr",
     "output_type": "stream",
     "text": [
      "Clipping input data to the valid range for imshow with RGB data ([0..1] for floats or [0..255] for integers).\n"
     ]
    },
    {
     "data": {
      "text/plain": [
       "<matplotlib.image.AxesImage at 0x7f6170cebf98>"
      ]
     },
     "execution_count": 67,
     "metadata": {},
     "output_type": "execute_result"
    },
    {
     "data": {
      "image/png": "[encoded data removed]",
      "text/plain": [
       "<Figure size 432x288 with 1 Axes>"
      ]
     },
     "metadata": {
      "needs_background": "light"
     },
     "output_type": "display_data"
    }
   ],
   "source": [
    "plt.imshow(answer[0]*255)"
   ]
  },
  {
   "cell_type": "code",
   "execution_count": 84,
   "metadata": {},
   "outputs": [],
   "source": [
    "result1 = y[50]\n",
    "result2 = answer[0]"
   ]
  },
  {
   "cell_type": "code",
   "execution_count": 120,
   "metadata": {},
   "outputs": [
    {
     "name": "stdout",
     "output_type": "stream",
     "text": [
      "IoU is 0.45600818452380953\n"
     ]
    }
   ],
   "source": [
    "intersection = np.logical_and(result1, result2)\n",
    "union = np.logical_or(result1, result2)\n",
    "iou_score = np.sum(intersection) / np.sum(union)\n",
    "print(\"IoU is %s\" % iou_score)"
   ]
  },
  {
   "cell_type": "code",
   "execution_count": 118,
   "metadata": {},
   "outputs": [],
   "source": [
    "def dice_coef(y_true, y_pred, smooth=1):\n",
    "  intersection = K.sum(y_true * y_pred, axis=[1,2,3])\n",
    "  union = K.sum(y_true, axis=[1,2,3]) + K.sum(y_pred, axis=[1,2,3])\n",
    "  dice = K.mean((2. * intersection + smooth)/(union + smooth), axis=0)\n",
    "  return dice"
   ]
  },
  {
   "cell_type": "code",
   "execution_count": 120,
   "metadata": {},
   "outputs": [
    {
     "data": {
      "text/plain": [
       "(150528, 1)"
      ]
     },
     "execution_count": 120,
     "metadata": {},
     "output_type": "execute_result"
    }
   ],
   "source": [
    "y_pred1.shape"
   ]
  },
  {
   "cell_type": "code",
   "execution_count": 47,
   "metadata": {},
   "outputs": [
    {
     "ename": "ZeroDivisionError",
     "evalue": "division by zero",
     "output_type": "error",
     "traceback": [
      "\u001b[0;31m---------------------------------------------------------------------------\u001b[0m",
      "\u001b[0;31mZeroDivisionError\u001b[0m                         Traceback (most recent call last)",
      "\u001b[0;32m<ipython-input-47-56de63eec993>\u001b[0m in \u001b[0;36m<module>\u001b[0;34m\u001b[0m\n\u001b[1;32m      1\u001b[0m \u001b[0;32mfrom\u001b[0m \u001b[0msklearn\u001b[0m\u001b[0;34m.\u001b[0m\u001b[0mmetrics\u001b[0m \u001b[0;32mimport\u001b[0m \u001b[0mjaccard_similarity_score\u001b[0m\u001b[0;34m\u001b[0m\u001b[0;34m\u001b[0m\u001b[0m\n\u001b[0;32m----> 2\u001b[0;31m \u001b[0mjac\u001b[0m \u001b[0;34m=\u001b[0m \u001b[0mjaccard_similarity_score\u001b[0m\u001b[0;34m(\u001b[0m\u001b[0manswer\u001b[0m\u001b[0;34m[\u001b[0m\u001b[0;36m0\u001b[0m\u001b[0;34m]\u001b[0m\u001b[0;34m,\u001b[0m \u001b[0my\u001b[0m\u001b[0;34m[\u001b[0m\u001b[0;36m154\u001b[0m\u001b[0;34m]\u001b[0m\u001b[0;34m,\u001b[0m \u001b[0mNormalize\u001b[0m \u001b[0;34m=\u001b[0m \u001b[0;32mTrue\u001b[0m\u001b[0;34m/\u001b[0m\u001b[0;32mFalse\u001b[0m\u001b[0;34m)\u001b[0m\u001b[0;34m\u001b[0m\u001b[0;34m\u001b[0m\u001b[0m\n\u001b[0m\u001b[1;32m      3\u001b[0m \u001b[0mjac\u001b[0m\u001b[0;34m\u001b[0m\u001b[0;34m\u001b[0m\u001b[0m\n",
      "\u001b[0;31mZeroDivisionError\u001b[0m: division by zero"
     ]
    }
   ],
   "source": [
    "from sklearn.metrics import jaccard_similarity_score\n",
    "jac = jaccard_similarity_score(answer[0], y[154], Normalize = True/False)\n",
    "jac"
   ]
  },
  {
   "cell_type": "code",
   "execution_count": 50,
   "metadata": {},
   "outputs": [
    {
     "data": {
      "text/plain": [
       "array([[[0.        , 0.        , 0.78431374],\n",
       "        [0.        , 0.        , 0.78431374],\n",
       "        [0.        , 0.        , 0.78431374],\n",
       "        ...,\n",
       "        [0.        , 0.        , 0.78431374],\n",
       "        [0.        , 0.        , 0.78431374],\n",
       "        [0.        , 0.        , 0.78431374]],\n",
       "\n",
       "       [[0.        , 0.        , 0.78431374],\n",
       "        [0.        , 0.        , 0.78431374],\n",
       "        [0.        , 0.        , 0.78431374],\n",
       "        ...,\n",
       "        [0.        , 0.        , 0.78431374],\n",
       "        [0.        , 0.        , 0.78431374],\n",
       "        [0.        , 0.        , 0.78431374]],\n",
       "\n",
       "       [[0.        , 0.        , 0.78431374],\n",
       "        [0.        , 0.        , 0.78431374],\n",
       "        [0.        , 0.        , 0.78431374],\n",
       "        ...,\n",
       "        [0.        , 0.        , 0.78431374],\n",
       "        [0.        , 0.        , 0.78431374],\n",
       "        [0.        , 0.        , 0.78431374]],\n",
       "\n",
       "       ...,\n",
       "\n",
       "       [[0.        , 0.        , 0.78431374],\n",
       "        [0.        , 0.        , 0.78431374],\n",
       "        [0.        , 0.        , 0.78431374],\n",
       "        ...,\n",
       "        [0.        , 0.        , 0.78431374],\n",
       "        [0.        , 0.        , 0.78431374],\n",
       "        [0.        , 0.        , 0.78431374]],\n",
       "\n",
       "       [[0.        , 0.        , 0.78431374],\n",
       "        [0.        , 0.        , 0.78431374],\n",
       "        [0.        , 0.        , 0.78431374],\n",
       "        ...,\n",
       "        [0.        , 0.        , 0.78431374],\n",
       "        [0.        , 0.        , 0.78431374],\n",
       "        [0.        , 0.        , 0.78431374]],\n",
       "\n",
       "       [[0.        , 0.        , 0.78431374],\n",
       "        [0.        , 0.        , 0.78431374],\n",
       "        [0.        , 0.        , 0.78431374],\n",
       "        ...,\n",
       "        [0.        , 0.        , 0.78431374],\n",
       "        [0.        , 0.        , 0.78431374],\n",
       "        [0.        , 0.        , 0.78431374]]], dtype=float32)"
      ]
     },
     "execution_count": 50,
     "metadata": {},
     "output_type": "execute_result"
    }
   ],
   "source": []
  },
  {
   "cell_type": "code",
   "execution_count": 57,
   "metadata": {},
   "outputs": [],
   "source": [
    "import sklearn"
   ]
  },
  {
   "cell_type": "code",
   "execution_count": 48,
   "metadata": {},
   "outputs": [],
   "source": [
    "#IOU Score.\n",
    "len = 0\n",
    "score=0\n",
    "for i in range(100,180):\n",
    "    y_true = y[i]\n",
    "    y_pred = model.predict(x[i:i+1])\n",
    "    result1 = np.reshape(y_true, (y_true.flatten().shape[0], 1))\n",
    "    result2 = np.reshape(y_pred, (y_pred.flatten().shape[0], 1)) \n",
    "    intersection = np.logical_and(result1, result2)\n",
    "    union = np.logical_or(result1, result2)\n",
    "    score += np.sum(intersection) / np.sum(union)\n",
    "    len+=1"
   ]
  },
  {
   "cell_type": "code",
   "execution_count": 49,
   "metadata": {},
   "outputs": [
    {
     "data": {
      "text/plain": [
       "0.3975668148118623"
      ]
     },
     "execution_count": 49,
     "metadata": {},
     "output_type": "execute_result"
    }
   ],
   "source": [
    "score/len"
   ]
  },
  {
   "cell_type": "code",
   "execution_count": 77,
   "metadata": {},
   "outputs": [
    {
     "data": {
      "image/png": "[encoded data removed]",
      "text/plain": [
       "<Figure size 144x360 with 1 Axes>"
      ]
     },
     "metadata": {
      "needs_background": "light"
     },
     "output_type": "display_data"
    }
   ],
   "source": [
    "import matplotlib.pyplot as plt\n",
    "# fig = plt.figure()\n",
    "# ax = fig.add_axes([0,0,1,1])\n",
    "fig = plt.figure(figsize = (2, 5))\n",
    "\n",
    "langs = ['Model']\n",
    "students = [score/len]\n",
    "plt.ylim([0,1])\n",
    "plt.bar(langs,students, width=0.01)\n",
    "plt.ylabel(\"IOU Score\")\n",
    "plt.text(-0.005,0.3975668148118623 + 0.1, str(v), color='blue', fontweight='bold')\n",
    "plt.show()"
   ]
  },
  {
   "cell_type": "code",
   "execution_count": 70,
   "metadata": {},
   "outputs": [
    {
     "name": "stdout",
     "output_type": "stream",
     "text": [
      "0 0.3975668148118623\n"
     ]
    }
   ],
   "source": [
    "for i, v in enumerate(students):\n",
    "    print(i,v)"
   ]
  },
  {
   "cell_type": "code",
   "execution_count": 110,
   "metadata": {},
   "outputs": [],
   "source": [
    "y_true =np.array([[+1, +1, +1, -1],[+1, -1, +1, +1]])\n",
    "y_pred = np.array([[+1, -5, +1, +1],[+1, +5, +5, -1]])"
   ]
  },
  {
   "cell_type": "code",
   "execution_count": 111,
   "metadata": {
    "jupyter": {
     "source_hidden": true
    }
   },
   "outputs": [],
   "source": [
    "y_true1 = np.reshape(y_true, (y_true.flatten().shape[0], 1))\n",
    "y_pred1 = np.reshape(y_pred, (y_pred.flatten().shape[0], 1))\n"
   ]
  },
  {
   "cell_type": "code",
   "execution_count": 112,
   "metadata": {},
   "outputs": [
    {
     "data": {
      "text/plain": [
       "((2, 4), (2, 4))"
      ]
     },
     "execution_count": 112,
     "metadata": {},
     "output_type": "execute_result"
    }
   ],
   "source": [
    "y_true.shape, y_pred.shape"
   ]
  },
  {
   "cell_type": "code",
   "execution_count": 123,
   "metadata": {},
   "outputs": [
    {
     "ename": "AttributeError",
     "evalue": "'Model' object has no attribute 'score'",
     "output_type": "error",
     "traceback": [
      "\u001b[0;31m---------------------------------------------------------------------------\u001b[0m",
      "\u001b[0;31mAttributeError\u001b[0m                            Traceback (most recent call last)",
      "\u001b[0;32m<ipython-input-123-a0ba5a97906f>\u001b[0m in \u001b[0;36m<module>\u001b[0;34m\u001b[0m\n\u001b[0;32m----> 1\u001b[0;31m \u001b[0mmodel\u001b[0m\u001b[0;34m.\u001b[0m\u001b[0mscore\u001b[0m\u001b[0;34m(\u001b[0m\u001b[0my_true1\u001b[0m\u001b[0;34m,\u001b[0m \u001b[0my_pred1\u001b[0m\u001b[0;34m)\u001b[0m\u001b[0;34m\u001b[0m\u001b[0;34m\u001b[0m\u001b[0m\n\u001b[0m",
      "\u001b[0;31mAttributeError\u001b[0m: 'Model' object has no attribute 'score'"
     ]
    }
   ],
   "source": [
    "model.score(y_true1, y_pred1)"
   ]
  },
  {
   "cell_type": "code",
   "execution_count": 121,
   "metadata": {},
   "outputs": [
    {
     "ename": "ValueError",
     "evalue": "continuous is not supported",
     "output_type": "error",
     "traceback": [
      "\u001b[0;31m---------------------------------------------------------------------------\u001b[0m",
      "\u001b[0;31mValueError\u001b[0m                                Traceback (most recent call last)",
      "\u001b[0;32m<ipython-input-121-1a80d688f56e>\u001b[0m in \u001b[0;36m<module>\u001b[0;34m\u001b[0m\n\u001b[0;32m----> 1\u001b[0;31m \u001b[0mscore\u001b[0m \u001b[0;34m=\u001b[0m \u001b[0msklearn\u001b[0m\u001b[0;34m.\u001b[0m\u001b[0mmetrics\u001b[0m\u001b[0;34m.\u001b[0m\u001b[0mmatthews_corrcoef\u001b[0m\u001b[0;34m(\u001b[0m\u001b[0my_true1\u001b[0m\u001b[0;34m,\u001b[0m \u001b[0my_pred1\u001b[0m\u001b[0;34m)\u001b[0m\u001b[0;34m\u001b[0m\u001b[0;34m\u001b[0m\u001b[0m\n\u001b[0m",
      "\u001b[0;32m~/anaconda3/envs/tensorflow_p36/lib/python3.6/site-packages/sklearn/metrics/_classification.py\u001b[0m in \u001b[0;36mmatthews_corrcoef\u001b[0;34m(y_true, y_pred, sample_weight)\u001b[0m\n\u001b[1;32m    880\u001b[0m     \u001b[0;34m-\u001b[0m\u001b[0;36m0.33\u001b[0m\u001b[0;34m...\u001b[0m\u001b[0;34m\u001b[0m\u001b[0;34m\u001b[0m\u001b[0m\n\u001b[1;32m    881\u001b[0m     \"\"\"\n\u001b[0;32m--> 882\u001b[0;31m     \u001b[0my_type\u001b[0m\u001b[0;34m,\u001b[0m \u001b[0my_true\u001b[0m\u001b[0;34m,\u001b[0m \u001b[0my_pred\u001b[0m \u001b[0;34m=\u001b[0m \u001b[0m_check_targets\u001b[0m\u001b[0;34m(\u001b[0m\u001b[0my_true\u001b[0m\u001b[0;34m,\u001b[0m \u001b[0my_pred\u001b[0m\u001b[0;34m)\u001b[0m\u001b[0;34m\u001b[0m\u001b[0;34m\u001b[0m\u001b[0m\n\u001b[0m\u001b[1;32m    883\u001b[0m     \u001b[0mcheck_consistent_length\u001b[0m\u001b[0;34m(\u001b[0m\u001b[0my_true\u001b[0m\u001b[0;34m,\u001b[0m \u001b[0my_pred\u001b[0m\u001b[0;34m,\u001b[0m \u001b[0msample_weight\u001b[0m\u001b[0;34m)\u001b[0m\u001b[0;34m\u001b[0m\u001b[0;34m\u001b[0m\u001b[0m\n\u001b[1;32m    884\u001b[0m     \u001b[0;32mif\u001b[0m \u001b[0my_type\u001b[0m \u001b[0;32mnot\u001b[0m \u001b[0;32min\u001b[0m \u001b[0;34m{\u001b[0m\u001b[0;34m\"binary\"\u001b[0m\u001b[0;34m,\u001b[0m \u001b[0;34m\"multiclass\"\u001b[0m\u001b[0;34m}\u001b[0m\u001b[0;34m:\u001b[0m\u001b[0;34m\u001b[0m\u001b[0;34m\u001b[0m\u001b[0m\n",
      "\u001b[0;32m~/anaconda3/envs/tensorflow_p36/lib/python3.6/site-packages/sklearn/metrics/_classification.py\u001b[0m in \u001b[0;36m_check_targets\u001b[0;34m(y_true, y_pred)\u001b[0m\n\u001b[1;32m     95\u001b[0m     \u001b[0;31m# No metrics support \"multiclass-multioutput\" format\u001b[0m\u001b[0;34m\u001b[0m\u001b[0;34m\u001b[0m\u001b[0;34m\u001b[0m\u001b[0m\n\u001b[1;32m     96\u001b[0m     \u001b[0;32mif\u001b[0m \u001b[0;34m(\u001b[0m\u001b[0my_type\u001b[0m \u001b[0;32mnot\u001b[0m \u001b[0;32min\u001b[0m \u001b[0;34m[\u001b[0m\u001b[0;34m\"binary\"\u001b[0m\u001b[0;34m,\u001b[0m \u001b[0;34m\"multiclass\"\u001b[0m\u001b[0;34m,\u001b[0m \u001b[0;34m\"multilabel-indicator\"\u001b[0m\u001b[0;34m]\u001b[0m\u001b[0;34m)\u001b[0m\u001b[0;34m:\u001b[0m\u001b[0;34m\u001b[0m\u001b[0;34m\u001b[0m\u001b[0m\n\u001b[0;32m---> 97\u001b[0;31m         \u001b[0;32mraise\u001b[0m \u001b[0mValueError\u001b[0m\u001b[0;34m(\u001b[0m\u001b[0;34m\"{0} is not supported\"\u001b[0m\u001b[0;34m.\u001b[0m\u001b[0mformat\u001b[0m\u001b[0;34m(\u001b[0m\u001b[0my_type\u001b[0m\u001b[0;34m)\u001b[0m\u001b[0;34m)\u001b[0m\u001b[0;34m\u001b[0m\u001b[0;34m\u001b[0m\u001b[0m\n\u001b[0m\u001b[1;32m     98\u001b[0m \u001b[0;34m\u001b[0m\u001b[0m\n\u001b[1;32m     99\u001b[0m     \u001b[0;32mif\u001b[0m \u001b[0my_type\u001b[0m \u001b[0;32min\u001b[0m \u001b[0;34m[\u001b[0m\u001b[0;34m\"binary\"\u001b[0m\u001b[0;34m,\u001b[0m \u001b[0;34m\"multiclass\"\u001b[0m\u001b[0;34m]\u001b[0m\u001b[0;34m:\u001b[0m\u001b[0;34m\u001b[0m\u001b[0;34m\u001b[0m\u001b[0m\n",
      "\u001b[0;31mValueError\u001b[0m: continuous is not supported"
     ]
    }
   ],
   "source": [
    "score = sklearn.metrics.matthews_corrcoef(y_true1, y_pred1)"
   ]
  },
  {
   "cell_type": "code",
   "execution_count": null,
   "metadata": {},
   "outputs": [],
   "source": [
    "score = sklearn.metrics.matthews_corrcoef"
   ]
  },
  {
   "cell_type": "code",
   "execution_count": 148,
   "metadata": {},
   "outputs": [
    {
     "data": {
      "text/plain": [
       "1.0"
      ]
     },
     "execution_count": 148,
     "metadata": {},
     "output_type": "execute_result"
    }
   ],
   "source": [
    "score"
   ]
  },
  {
   "cell_type": "code",
   "execution_count": 151,
   "metadata": {},
   "outputs": [
    {
     "data": {
      "text/plain": [
       "(224, 224, 3)"
      ]
     },
     "execution_count": 151,
     "metadata": {},
     "output_type": "execute_result"
    }
   ],
   "source": [
    "y[50].shape"
   ]
  },
  {
   "cell_type": "code",
   "execution_count": 152,
   "metadata": {},
   "outputs": [
    {
     "data": {
      "text/plain": [
       "(224, 224, 3)"
      ]
     },
     "execution_count": 152,
     "metadata": {},
     "output_type": "execute_result"
    }
   ],
   "source": [
    "answer[0].shape"
   ]
  },
  {
   "cell_type": "code",
   "execution_count": 155,
   "metadata": {},
   "outputs": [
    {
     "ename": "ValueError",
     "evalue": "unknown is not supported",
     "output_type": "error",
     "traceback": [
      "\u001b[0;31m---------------------------------------------------------------------------\u001b[0m",
      "\u001b[0;31mValueError\u001b[0m                                Traceback (most recent call last)",
      "\u001b[0;32m<ipython-input-155-60832c058d17>\u001b[0m in \u001b[0;36m<module>\u001b[0;34m\u001b[0m\n\u001b[0;32m----> 1\u001b[0;31m \u001b[0msklearn\u001b[0m\u001b[0;34m.\u001b[0m\u001b[0mmetrics\u001b[0m\u001b[0;34m.\u001b[0m\u001b[0mmatthews_corrcoef\u001b[0m\u001b[0;34m(\u001b[0m\u001b[0my\u001b[0m\u001b[0;34m[\u001b[0m\u001b[0;36m50\u001b[0m\u001b[0;34m]\u001b[0m\u001b[0;34m,\u001b[0m \u001b[0manswer\u001b[0m\u001b[0;34m[\u001b[0m\u001b[0;36m0\u001b[0m\u001b[0;34m]\u001b[0m\u001b[0;34m)\u001b[0m\u001b[0;34m\u001b[0m\u001b[0;34m\u001b[0m\u001b[0m\n\u001b[0m",
      "\u001b[0;32m~/anaconda3/envs/tensorflow_p36/lib/python3.6/site-packages/sklearn/metrics/_classification.py\u001b[0m in \u001b[0;36mmatthews_corrcoef\u001b[0;34m(y_true, y_pred, sample_weight)\u001b[0m\n\u001b[1;32m    880\u001b[0m     \u001b[0;34m-\u001b[0m\u001b[0;36m0.33\u001b[0m\u001b[0;34m...\u001b[0m\u001b[0;34m\u001b[0m\u001b[0;34m\u001b[0m\u001b[0m\n\u001b[1;32m    881\u001b[0m     \"\"\"\n\u001b[0;32m--> 882\u001b[0;31m     \u001b[0my_type\u001b[0m\u001b[0;34m,\u001b[0m \u001b[0my_true\u001b[0m\u001b[0;34m,\u001b[0m \u001b[0my_pred\u001b[0m \u001b[0;34m=\u001b[0m \u001b[0m_check_targets\u001b[0m\u001b[0;34m(\u001b[0m\u001b[0my_true\u001b[0m\u001b[0;34m,\u001b[0m \u001b[0my_pred\u001b[0m\u001b[0;34m)\u001b[0m\u001b[0;34m\u001b[0m\u001b[0;34m\u001b[0m\u001b[0m\n\u001b[0m\u001b[1;32m    883\u001b[0m     \u001b[0mcheck_consistent_length\u001b[0m\u001b[0;34m(\u001b[0m\u001b[0my_true\u001b[0m\u001b[0;34m,\u001b[0m \u001b[0my_pred\u001b[0m\u001b[0;34m,\u001b[0m \u001b[0msample_weight\u001b[0m\u001b[0;34m)\u001b[0m\u001b[0;34m\u001b[0m\u001b[0;34m\u001b[0m\u001b[0m\n\u001b[1;32m    884\u001b[0m     \u001b[0;32mif\u001b[0m \u001b[0my_type\u001b[0m \u001b[0;32mnot\u001b[0m \u001b[0;32min\u001b[0m \u001b[0;34m{\u001b[0m\u001b[0;34m\"binary\"\u001b[0m\u001b[0;34m,\u001b[0m \u001b[0;34m\"multiclass\"\u001b[0m\u001b[0;34m}\u001b[0m\u001b[0;34m:\u001b[0m\u001b[0;34m\u001b[0m\u001b[0;34m\u001b[0m\u001b[0m\n",
      "\u001b[0;32m~/anaconda3/envs/tensorflow_p36/lib/python3.6/site-packages/sklearn/metrics/_classification.py\u001b[0m in \u001b[0;36m_check_targets\u001b[0;34m(y_true, y_pred)\u001b[0m\n\u001b[1;32m     95\u001b[0m     \u001b[0;31m# No metrics support \"multiclass-multioutput\" format\u001b[0m\u001b[0;34m\u001b[0m\u001b[0;34m\u001b[0m\u001b[0;34m\u001b[0m\u001b[0m\n\u001b[1;32m     96\u001b[0m     \u001b[0;32mif\u001b[0m \u001b[0;34m(\u001b[0m\u001b[0my_type\u001b[0m \u001b[0;32mnot\u001b[0m \u001b[0;32min\u001b[0m \u001b[0;34m[\u001b[0m\u001b[0;34m\"binary\"\u001b[0m\u001b[0;34m,\u001b[0m \u001b[0;34m\"multiclass\"\u001b[0m\u001b[0;34m,\u001b[0m \u001b[0;34m\"multilabel-indicator\"\u001b[0m\u001b[0;34m]\u001b[0m\u001b[0;34m)\u001b[0m\u001b[0;34m:\u001b[0m\u001b[0;34m\u001b[0m\u001b[0;34m\u001b[0m\u001b[0m\n\u001b[0;32m---> 97\u001b[0;31m         \u001b[0;32mraise\u001b[0m \u001b[0mValueError\u001b[0m\u001b[0;34m(\u001b[0m\u001b[0;34m\"{0} is not supported\"\u001b[0m\u001b[0;34m.\u001b[0m\u001b[0mformat\u001b[0m\u001b[0;34m(\u001b[0m\u001b[0my_type\u001b[0m\u001b[0;34m)\u001b[0m\u001b[0;34m)\u001b[0m\u001b[0;34m\u001b[0m\u001b[0;34m\u001b[0m\u001b[0m\n\u001b[0m\u001b[1;32m     98\u001b[0m \u001b[0;34m\u001b[0m\u001b[0m\n\u001b[1;32m     99\u001b[0m     \u001b[0;32mif\u001b[0m \u001b[0my_type\u001b[0m \u001b[0;32min\u001b[0m \u001b[0;34m[\u001b[0m\u001b[0;34m\"binary\"\u001b[0m\u001b[0;34m,\u001b[0m \u001b[0;34m\"multiclass\"\u001b[0m\u001b[0;34m]\u001b[0m\u001b[0;34m:\u001b[0m\u001b[0;34m\u001b[0m\u001b[0;34m\u001b[0m\u001b[0m\n",
      "\u001b[0;31mValueError\u001b[0m: unknown is not supported"
     ]
    }
   ],
   "source": [
    "sklearn.metrics.matthews_corrcoef(y[50], answer[0])"
   ]
  }
 ],
 "metadata": {
  "kernelspec": {
   "display_name": "conda_tensorflow_p36",
   "language": "python",
   "name": "conda_tensorflow_p36"
  },
  "language_info": {
   "codemirror_mode": {
    "name": "ipython",
    "version": 3
   },
   "file_extension": ".py",
   "mimetype": "text/x-python",
   "name": "python",
   "nbconvert_exporter": "python",
   "pygments_lexer": "ipython3",
   "version": "3.6.10"
  }
 },
 "nbformat": 4,
 "nbformat_minor": 4
}
